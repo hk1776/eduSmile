{
 "cells": [
  {
   "cell_type": "code",
   "execution_count": null,
   "metadata": {},
   "outputs": [],
   "source": [
    "path = ''"
   ]
  },
  {
   "cell_type": "markdown",
   "metadata": {},
   "source": [
    "# 환경설정"
   ]
  },
  {
   "cell_type": "code",
   "execution_count": 5,
   "metadata": {},
   "outputs": [],
   "source": [
    "#필요한 라이브러리 설치 및 불러우기\n",
    "import os\n",
    "import requests\n",
    "import xml.etree.ElementTree as ET\n",
    "import pandas as pd\n",
    "import matplotlib.pyplot as plt\n",
    "import openai\n",
    "from openai import OpenAI\n",
    "import json\n",
    "\n",
    "\n",
    "\n"
   ]
  },
  {
   "cell_type": "code",
   "execution_count": 20,
   "metadata": {},
   "outputs": [],
   "source": [
    "import numpy as np\n",
    "import pandas as pd\n",
    "import matplotlib.pyplot as plt\n",
    "import seaborn as sns\n",
    "\n",
    "import torch\n",
    "\n",
    "from transformers import AutoTokenizer, AutoModelForSequenceClassification, Trainer, TrainingArguments, EarlyStoppingCallback\n",
    "from datasets import load_dataset, Dataset\n",
    "\n",
    "from sklearn.model_selection import train_test_split\n",
    "from sklearn.metrics import *\n",
    "\n",
    "from warnings import filterwarnings\n",
    "FutureWarning\n",
    "filterwarnings('ignore')"
   ]
  },
  {
   "cell_type": "markdown",
   "metadata": {},
   "source": [
    "## 환경 변수 설정 ( API KEY 설정)"
   ]
  },
  {
   "cell_type": "code",
   "execution_count": null,
   "metadata": {},
   "outputs": [],
   "source": [
    "def load_file(filepath):\n",
    "    with open(filepath, 'r') as file:\n",
    "        return file.readline().strip()\n",
    "\n",
    "# API 키 로드 및 환경변수 설정\n",
    "openai.api_key = load_file(path + 'api_key.txt')\n",
    "os.environ['OPENAI_API_KEY'] = openai.api_key"
   ]
  },
  {
   "cell_type": "code",
   "execution_count": null,
   "metadata": {},
   "outputs": [],
   "source": [
    "print(os.environ['OPENAI_API_KEY'])"
   ]
  },
  {
   "cell_type": "markdown",
   "metadata": {},
   "source": [
    "# 음성"
   ]
  },
  {
   "cell_type": "markdown",
   "metadata": {},
   "source": []
  },
  {
   "cell_type": "code",
   "execution_count": null,
   "metadata": {},
   "outputs": [],
   "source": []
  },
  {
   "cell_type": "markdown",
   "metadata": {},
   "source": [
    "# 텍스트"
   ]
  },
  {
   "cell_type": "code",
   "execution_count": null,
   "metadata": {},
   "outputs": [],
   "source": [
    "data = pd.read_csv(path + '/')\n",
    "data.head()"
   ]
  },
  {
   "cell_type": "markdown",
   "metadata": {},
   "source": [
    "#### 데이터 준비"
   ]
  },
  {
   "cell_type": "code",
   "execution_count": null,
   "metadata": {},
   "outputs": [],
   "source": [
    "# 데이터셋 분할\n",
    "train, val = train_test_split(data, test_size=0.2, random_state=42)\n",
    "# 텐서 데이터셋으로 변환\n",
    "train_ds = Dataset.from_pandas(train)\n",
    "val_ds = Dataset.from_pandas(val)"
   ]
  },
  {
   "cell_type": "markdown",
   "metadata": {},
   "source": [
    "#### (토큰화)"
   ]
  },
  {
   "cell_type": "code",
   "execution_count": null,
   "metadata": {},
   "outputs": [],
   "source": [
    "# 모델과 토크나이저 불러오기\n",
    "# 모델과 토크나이저 불러오기\n",
    "model_name = \"klue/bert-base\"\n",
    "tokenizer = AutoTokenizer.from_pretrained(model_name)"
   ]
  },
  {
   "cell_type": "code",
   "execution_count": null,
   "metadata": {},
   "outputs": [],
   "source": [
    "# 토큰화 함수 생성 및 작업\n",
    "def preprocess_function(data):\n",
    "    return tokenizer(data['text'], truncation=True, padding=True)\n",
    "\n",
    "train_ds = train_ds.map(preprocess_function, batched=True)\n",
    "val_ds = val_ds.map(preprocess_function, batched=True)"
   ]
  },
  {
   "cell_type": "markdown",
   "metadata": {},
   "source": [
    "#### 데이터 생성 (음성 추출)"
   ]
  },
  {
   "cell_type": "code",
   "execution_count": 25,
   "metadata": {},
   "outputs": [],
   "source": [
    "import requests\n",
    "import json\n",
    "from pytube import YouTube\n",
    "from pydub import AudioSegment\n",
    "\n",
    "# Step 1: 유튜브 오디오 다운로드\n",
    "def download_youtube_audio(video_url, output_path=\"audio/audio.wav\"):\n",
    "    # yt = YouTube(video_url)\n",
    "    yt = YouTube(video_url, use_oauth=True, allow_oauth_cache=True)\n",
    "\n",
    "    audio_stream = yt.streams.filter(only_audio=True).first()\n",
    "    temp_audio_path = \"audio/temp_audio.mp4\"\n",
    "    audio_stream.download(output_path=\"audio/\", filename=\"temp_audio.mp4\")\n",
    "    \n",
    "    # MP4 -> WAV 변환\n",
    "    audio = AudioSegment.from_file(temp_audio_path, format=\"mp4\")\n",
    "    audio.export(output_path, format=\"wav\")\n",
    "    print(\"오디오 다운로드 및 변환 완료!\")\n",
    "    return output_path\n",
    "\n",
    "# Step 2: 클로바 API를 사용한 음성 텍스트 변환\n",
    "def audio_to_text_clova(audio_path, api_url, client_id, client_secret):\n",
    "    headers = {\n",
    "        \"X-NCP-APIGW-API-KEY-ID\": client_id,\n",
    "        \"X-NCP-APIGW-API-KEY\": client_secret,\n",
    "        \"Content-Type\": \"application/octet-stream\"\n",
    "    }\n",
    "\n",
    "    with open(audio_path, \"rb\") as audio_file:\n",
    "        response = requests.post(api_url, headers=headers, data=audio_file)\n",
    "    \n",
    "    if response.status_code == 200:\n",
    "        result = response.json()\n",
    "        return result.get(\"text\", \"\")  # 변환된 텍스트 반환\n",
    "    else:\n",
    "        print(f\"오류 발생: {response.status_code}, {response.text}\")\n",
    "        return None\n",
    "\n",
    "# Step 3: 텍스트 저장\n",
    "def save_text_to_file(text, file_path):\n",
    "    with open(file_path, \"w\", encoding=\"utf-8\") as f:\n",
    "        f.write(text)\n",
    "    print(f\"텍스트가 {file_path}에 저장되었습니다!\")\n",
    "\n"
   ]
  },
  {
   "cell_type": "code",
   "execution_count": 52,
   "metadata": {},
   "outputs": [],
   "source": [
    "import os\n",
    "import yt_dlp\n",
    "\n",
    "def download_youtube_audio(video_url):\n",
    "    try:\n",
    "        # 지정된 절대 경로\n",
    "        output_path = r\"C:\\Users\\User\\Desktop\\eduSmile-master\\audio\"\n",
    "        \n",
    "        # 출력 디렉토리 생성\n",
    "        os.makedirs(output_path, exist_ok=True)\n",
    "        \n",
    "        ydl_opts = {\n",
    "            'format': 'bestaudio/best',\n",
    "            'postprocessors': [{\n",
    "                'key': 'FFmpegExtractAudio',\n",
    "                'preferredcodec': 'wav',\n",
    "            }],\n",
    "            'outtmpl': os.path.join(output_path, '%(title)s.%(ext)s'),\n",
    "            'ffmpeg_location': 'C:\\\\ffmpeg\\\\bin'  # ffmpeg 경로\n",
    "        }\n",
    "        \n",
    "        print(\"다운로드 시작...\")\n",
    "        with yt_dlp.YoutubeDL(ydl_opts) as ydl:\n",
    "            ydl.download([video_url])\n",
    "        print(f\"다운로드 완료! 저장 위치: {output_path}\")\n",
    "        \n",
    "    except Exception as e:\n",
    "        print(f\"Error: {str(e)}\")\n",
    "\n"
   ]
  },
  {
   "cell_type": "code",
   "execution_count": 55,
   "metadata": {},
   "outputs": [],
   "source": [
    "def process_youtube_urls():\n",
    "    \"\"\"\n",
    "    txt 파일에서 YouTube URL을 읽어서 오디오를 다운로드하는 함수\n",
    "    \"\"\"\n",
    "    # 파일 경로 설정\n",
    "    file_path = r\"C:\\Users\\User\\Desktop\\eduSmile-master\\.git\\datasets\\youtube_datasets_01.txt\"\n",
    "    output_path = r\"C:\\Users\\User\\Desktop\\eduSmile-master\\audio\"\n",
    "    \n",
    "    try:\n",
    "        # 파일 읽기\n",
    "        with open(file_path, 'r', encoding='utf-8') as file:\n",
    "            # https로 시작하는 URL만 필터링\n",
    "            urls = [line.strip() for line in file if line.strip().startswith('https')]\n",
    "        \n",
    "        print(f\"총 {len(urls)}개의 URL을 찾았습니다.\")\n",
    "        \n",
    "        # 각 URL에 대해 오디오 다운로드\n",
    "        for idx, url in enumerate(urls, 1):\n",
    "            print(f\"\\n[{idx}/{len(urls)}] URL 처리 중...\")\n",
    "            download_youtube_audio(url)\n",
    "            \n",
    "    except FileNotFoundError:\n",
    "        print(f\"Error: 파일을 찾을 수 없습니다: {file_path}\")\n",
    "    except Exception as e:\n",
    "        print(f\"Error: 파일 처리 중 오류가 발생했습니다: {str(e)}\")"
   ]
  },
  {
   "cell_type": "code",
   "execution_count": 56,
   "metadata": {},
   "outputs": [
    {
     "name": "stderr",
     "output_type": "stream",
     "text": [
      "Deprecated Feature: Support for Python version 3.8 has been deprecated. Please update to Python 3.9 or above\n"
     ]
    },
    {
     "name": "stdout",
     "output_type": "stream",
     "text": [
      "총 20개의 URL을 찾았습니다.\n",
      "\n",
      "[1/20] URL 처리 중...\n",
      "다운로드 시작...\n",
      "[youtube] Extracting URL: https://www.youtube.com/watch?v=zlaMDt04gXY\n",
      "[youtube] zlaMDt04gXY: Downloading webpage\n",
      "[youtube] zlaMDt04gXY: Downloading ios player API JSON\n",
      "[youtube] zlaMDt04gXY: Downloading mweb player API JSON\n"
     ]
    },
    {
     "name": "stderr",
     "output_type": "stream",
     "text": [
      "ERROR: [youtube] zlaMDt04gXY: Video unavailable\n",
      "Deprecated Feature: Support for Python version 3.8 has been deprecated. Please update to Python 3.9 or above\n"
     ]
    },
    {
     "name": "stdout",
     "output_type": "stream",
     "text": [
      "Error: ERROR: [youtube] zlaMDt04gXY: Video unavailable\n",
      "\n",
      "[2/20] URL 처리 중...\n",
      "다운로드 시작...\n",
      "[youtube] Extracting URL: https://www.youtube.com/watch?v=xBnq7xf2wt8\n",
      "[youtube] xBnq7xf2wt8: Downloading webpage\n",
      "[youtube] xBnq7xf2wt8: Downloading ios player API JSON\n",
      "[youtube] xBnq7xf2wt8: Downloading mweb player API JSON\n",
      "[youtube] xBnq7xf2wt8: Downloading player a5032d18\n"
     ]
    },
    {
     "name": "stderr",
     "output_type": "stream",
     "text": [
      "WARNING: [youtube] Falling back to generic n function search\n",
      "         player = https://www.youtube.com/s/player/a5032d18/player_ias.vflset/en_US/base.js\n",
      "WARNING: [youtube] xBnq7xf2wt8: nsig extraction failed: Some formats may be missing\n",
      "         n = WDsROWxyLpwasOWE ; player = https://www.youtube.com/s/player/a5032d18/player_ias.vflset/en_US/base.js\n",
      "WARNING: [youtube] Falling back to generic n function search\n",
      "         player = https://www.youtube.com/s/player/a5032d18/player_ias.vflset/en_US/base.js\n",
      "WARNING: [youtube] xBnq7xf2wt8: nsig extraction failed: Some formats may be missing\n",
      "         n = RJKVHZKVCvX-oGpA ; player = https://www.youtube.com/s/player/a5032d18/player_ias.vflset/en_US/base.js\n"
     ]
    },
    {
     "name": "stdout",
     "output_type": "stream",
     "text": [
      "[youtube] xBnq7xf2wt8: Downloading m3u8 information\n",
      "[info] xBnq7xf2wt8: Downloading 1 format(s): 251\n",
      "[download] Destination: C:\\Users\\User\\Desktop\\eduSmile-master\\audio\\수학기초 - 사칙연산편.webm\n",
      "[download] 100% of    7.45MiB in 00:00:01 at 5.89MiB/s   \n",
      "[ExtractAudio] Destination: C:\\Users\\User\\Desktop\\eduSmile-master\\audio\\수학기초 - 사칙연산편.wav\n",
      "Deleting original file C:\\Users\\User\\Desktop\\eduSmile-master\\audio\\수학기초 - 사칙연산편.webm (pass -k to keep)\n"
     ]
    },
    {
     "name": "stderr",
     "output_type": "stream",
     "text": [
      "Deprecated Feature: Support for Python version 3.8 has been deprecated. Please update to Python 3.9 or above\n"
     ]
    },
    {
     "name": "stdout",
     "output_type": "stream",
     "text": [
      "다운로드 완료! 저장 위치: C:\\Users\\User\\Desktop\\eduSmile-master\\audio\n",
      "\n",
      "[3/20] URL 처리 중...\n",
      "다운로드 시작...\n",
      "[youtube] Extracting URL: https://www.youtube.com/watch?v=5JvfVjb77fo\n",
      "[youtube] 5JvfVjb77fo: Downloading webpage\n",
      "[youtube] 5JvfVjb77fo: Downloading ios player API JSON\n",
      "[youtube] 5JvfVjb77fo: Downloading mweb player API JSON\n",
      "[youtube] 5JvfVjb77fo: Downloading player a5032d18\n"
     ]
    },
    {
     "name": "stderr",
     "output_type": "stream",
     "text": [
      "WARNING: [youtube] Falling back to generic n function search\n",
      "         player = https://www.youtube.com/s/player/a5032d18/player_ias.vflset/en_US/base.js\n",
      "WARNING: [youtube] 5JvfVjb77fo: nsig extraction failed: Some formats may be missing\n",
      "         n = yNVeMEDUUsDOF6Po ; player = https://www.youtube.com/s/player/a5032d18/player_ias.vflset/en_US/base.js\n",
      "WARNING: [youtube] Falling back to generic n function search\n",
      "         player = https://www.youtube.com/s/player/a5032d18/player_ias.vflset/en_US/base.js\n",
      "WARNING: [youtube] 5JvfVjb77fo: nsig extraction failed: Some formats may be missing\n",
      "         n = 3MRLuT2VLq_E23Wb ; player = https://www.youtube.com/s/player/a5032d18/player_ias.vflset/en_US/base.js\n"
     ]
    },
    {
     "name": "stdout",
     "output_type": "stream",
     "text": [
      "[youtube] 5JvfVjb77fo: Downloading m3u8 information\n",
      "[info] 5JvfVjb77fo: Downloading 1 format(s): 251\n",
      "[download] Destination: C:\\Users\\User\\Desktop\\eduSmile-master\\audio\\[수학史] 사칙연산(덧셈, 뺄셈,곱셈,나눗셈) 기호의 유래.webm\n",
      "[download] 100% of    7.03MiB in 00:00:03 at 1.89MiB/s   \n",
      "[ExtractAudio] Destination: C:\\Users\\User\\Desktop\\eduSmile-master\\audio\\[수학史] 사칙연산(덧셈, 뺄셈,곱셈,나눗셈) 기호의 유래.wav\n",
      "Deleting original file C:\\Users\\User\\Desktop\\eduSmile-master\\audio\\[수학史] 사칙연산(덧셈, 뺄셈,곱셈,나눗셈) 기호의 유래.webm (pass -k to keep)\n"
     ]
    },
    {
     "name": "stderr",
     "output_type": "stream",
     "text": [
      "Deprecated Feature: Support for Python version 3.8 has been deprecated. Please update to Python 3.9 or above\n"
     ]
    },
    {
     "name": "stdout",
     "output_type": "stream",
     "text": [
      "다운로드 완료! 저장 위치: C:\\Users\\User\\Desktop\\eduSmile-master\\audio\n",
      "\n",
      "[4/20] URL 처리 중...\n",
      "다운로드 시작...\n",
      "[youtube] Extracting URL: https://www.youtube.com/watch?v=Akwc62hbKeA\n",
      "[youtube] Akwc62hbKeA: Downloading webpage\n",
      "[youtube] Akwc62hbKeA: Downloading ios player API JSON\n",
      "[youtube] Akwc62hbKeA: Downloading mweb player API JSON\n"
     ]
    },
    {
     "name": "stderr",
     "output_type": "stream",
     "text": [
      "ERROR: [youtube] Akwc62hbKeA: Video unavailable\n",
      "Deprecated Feature: Support for Python version 3.8 has been deprecated. Please update to Python 3.9 or above\n"
     ]
    },
    {
     "name": "stdout",
     "output_type": "stream",
     "text": [
      "Error: ERROR: [youtube] Akwc62hbKeA: Video unavailable\n",
      "\n",
      "[5/20] URL 처리 중...\n",
      "다운로드 시작...\n",
      "[youtube] Extracting URL: https://www.youtube.com/watch?v=Ee7-havpnz8\n",
      "[youtube] Ee7-havpnz8: Downloading webpage\n",
      "[youtube] Ee7-havpnz8: Downloading ios player API JSON\n",
      "[youtube] Ee7-havpnz8: Downloading mweb player API JSON\n",
      "[youtube] Ee7-havpnz8: Downloading player a5032d18\n"
     ]
    },
    {
     "name": "stderr",
     "output_type": "stream",
     "text": [
      "WARNING: [youtube] Falling back to generic n function search\n",
      "         player = https://www.youtube.com/s/player/a5032d18/player_ias.vflset/en_US/base.js\n",
      "WARNING: [youtube] Ee7-havpnz8: nsig extraction failed: Some formats may be missing\n",
      "         n = MwhIab_2FroQTYUX ; player = https://www.youtube.com/s/player/a5032d18/player_ias.vflset/en_US/base.js\n",
      "WARNING: [youtube] Falling back to generic n function search\n",
      "         player = https://www.youtube.com/s/player/a5032d18/player_ias.vflset/en_US/base.js\n",
      "WARNING: [youtube] Ee7-havpnz8: nsig extraction failed: Some formats may be missing\n",
      "         n = 6v9uDqc2QpGYNJeF ; player = https://www.youtube.com/s/player/a5032d18/player_ias.vflset/en_US/base.js\n"
     ]
    },
    {
     "name": "stdout",
     "output_type": "stream",
     "text": [
      "[youtube] Ee7-havpnz8: Downloading m3u8 information\n",
      "[info] Ee7-havpnz8: Downloading 1 format(s): 251\n",
      "[download] Destination: C:\\Users\\User\\Desktop\\eduSmile-master\\audio\\수학의 기초 3. 사칙연산 _ 수학 포기하지 마세요 이 정도만 알면 되요..webm\n",
      "[download] 100% of    6.77MiB in 00:00:01 at 5.43MiB/s   \n",
      "[ExtractAudio] Destination: C:\\Users\\User\\Desktop\\eduSmile-master\\audio\\수학의 기초 3. 사칙연산 _ 수학 포기하지 마세요 이 정도만 알면 되요..wav\n",
      "Deleting original file C:\\Users\\User\\Desktop\\eduSmile-master\\audio\\수학의 기초 3. 사칙연산 _ 수학 포기하지 마세요 이 정도만 알면 되요..webm (pass -k to keep)\n"
     ]
    },
    {
     "name": "stderr",
     "output_type": "stream",
     "text": [
      "Deprecated Feature: Support for Python version 3.8 has been deprecated. Please update to Python 3.9 or above\n"
     ]
    },
    {
     "name": "stdout",
     "output_type": "stream",
     "text": [
      "다운로드 완료! 저장 위치: C:\\Users\\User\\Desktop\\eduSmile-master\\audio\n",
      "\n",
      "[6/20] URL 처리 중...\n",
      "다운로드 시작...\n",
      "[youtube:truncated_id] Extracting URL: https://www.youtube.com/watch?v=Ru9ctT3e5Y\n"
     ]
    },
    {
     "name": "stderr",
     "output_type": "stream",
     "text": [
      "ERROR: [youtube:truncated_id] Ru9ctT3e5Y: Incomplete YouTube ID Ru9ctT3e5Y. URL https://www.youtube.com/watch?v=Ru9ctT3e5Y looks truncated.\n",
      "Deprecated Feature: Support for Python version 3.8 has been deprecated. Please update to Python 3.9 or above\n"
     ]
    },
    {
     "name": "stdout",
     "output_type": "stream",
     "text": [
      "Error: ERROR: [youtube:truncated_id] Ru9ctT3e5Y: Incomplete YouTube ID Ru9ctT3e5Y. URL https://www.youtube.com/watch?v=Ru9ctT3e5Y looks truncated.\n",
      "\n",
      "[7/20] URL 처리 중...\n",
      "다운로드 시작...\n",
      "[youtube] Extracting URL: https://www.youtube.com/watch?v=nelEMSuczkM\n",
      "[youtube] nelEMSuczkM: Downloading webpage\n",
      "[youtube] nelEMSuczkM: Downloading ios player API JSON\n",
      "[youtube] nelEMSuczkM: Downloading mweb player API JSON\n"
     ]
    },
    {
     "name": "stderr",
     "output_type": "stream",
     "text": [
      "ERROR: [youtube] nelEMSuczkM: Video unavailable\n",
      "Deprecated Feature: Support for Python version 3.8 has been deprecated. Please update to Python 3.9 or above\n"
     ]
    },
    {
     "name": "stdout",
     "output_type": "stream",
     "text": [
      "Error: ERROR: [youtube] nelEMSuczkM: Video unavailable\n",
      "\n",
      "[8/20] URL 처리 중...\n",
      "다운로드 시작...\n",
      "[youtube] Extracting URL: https://www.youtube.com/watch?v=wCs-Ym-W9Pc\n",
      "[youtube] wCs-Ym-W9Pc: Downloading webpage\n",
      "[youtube] wCs-Ym-W9Pc: Downloading ios player API JSON\n",
      "[youtube] wCs-Ym-W9Pc: Downloading mweb player API JSON\n",
      "[youtube] wCs-Ym-W9Pc: Downloading player a5032d18\n"
     ]
    },
    {
     "name": "stderr",
     "output_type": "stream",
     "text": [
      "WARNING: [youtube] Falling back to generic n function search\n",
      "         player = https://www.youtube.com/s/player/a5032d18/player_ias.vflset/en_US/base.js\n",
      "WARNING: [youtube] wCs-Ym-W9Pc: nsig extraction failed: Some formats may be missing\n",
      "         n = k_muVbhTYaPoxY2S ; player = https://www.youtube.com/s/player/a5032d18/player_ias.vflset/en_US/base.js\n",
      "WARNING: [youtube] Falling back to generic n function search\n",
      "         player = https://www.youtube.com/s/player/a5032d18/player_ias.vflset/en_US/base.js\n",
      "WARNING: [youtube] wCs-Ym-W9Pc: nsig extraction failed: Some formats may be missing\n",
      "         n = RlsqZQsMQ_hJ70Or ; player = https://www.youtube.com/s/player/a5032d18/player_ias.vflset/en_US/base.js\n"
     ]
    },
    {
     "name": "stdout",
     "output_type": "stream",
     "text": [
      "[youtube] wCs-Ym-W9Pc: Downloading m3u8 information\n",
      "[info] wCs-Ym-W9Pc: Downloading 1 format(s): 251\n",
      "[download] Destination: C:\\Users\\User\\Desktop\\eduSmile-master\\audio\\[8차시] 정수와 유리수의 사칙연산.webm\n",
      "[download] 100% of    4.49MiB in 00:00:02 at 2.06MiB/s   \n",
      "[ExtractAudio] Destination: C:\\Users\\User\\Desktop\\eduSmile-master\\audio\\[8차시] 정수와 유리수의 사칙연산.wav\n",
      "Deleting original file C:\\Users\\User\\Desktop\\eduSmile-master\\audio\\[8차시] 정수와 유리수의 사칙연산.webm (pass -k to keep)\n"
     ]
    },
    {
     "name": "stderr",
     "output_type": "stream",
     "text": [
      "Deprecated Feature: Support for Python version 3.8 has been deprecated. Please update to Python 3.9 or above\n"
     ]
    },
    {
     "name": "stdout",
     "output_type": "stream",
     "text": [
      "다운로드 완료! 저장 위치: C:\\Users\\User\\Desktop\\eduSmile-master\\audio\n",
      "\n",
      "[9/20] URL 처리 중...\n",
      "다운로드 시작...\n",
      "[youtube] Extracting URL: https://www.youtube.com/watch?v=pdTjdvsnuJ0\n",
      "[youtube] pdTjdvsnuJ0: Downloading webpage\n",
      "[youtube] pdTjdvsnuJ0: Downloading ios player API JSON\n",
      "[youtube] pdTjdvsnuJ0: Downloading mweb player API JSON\n",
      "[youtube] pdTjdvsnuJ0: Downloading player a5032d18\n"
     ]
    },
    {
     "name": "stderr",
     "output_type": "stream",
     "text": [
      "WARNING: [youtube] Falling back to generic n function search\n",
      "         player = https://www.youtube.com/s/player/a5032d18/player_ias.vflset/en_US/base.js\n",
      "WARNING: [youtube] pdTjdvsnuJ0: nsig extraction failed: Some formats may be missing\n",
      "         n = 7V6HApkII1QXnJAE ; player = https://www.youtube.com/s/player/a5032d18/player_ias.vflset/en_US/base.js\n",
      "WARNING: [youtube] Falling back to generic n function search\n",
      "         player = https://www.youtube.com/s/player/a5032d18/player_ias.vflset/en_US/base.js\n",
      "WARNING: [youtube] pdTjdvsnuJ0: nsig extraction failed: Some formats may be missing\n",
      "         n = VErAYgICRBm8hmSF ; player = https://www.youtube.com/s/player/a5032d18/player_ias.vflset/en_US/base.js\n"
     ]
    },
    {
     "name": "stdout",
     "output_type": "stream",
     "text": [
      "[youtube] pdTjdvsnuJ0: Downloading m3u8 information\n",
      "[info] pdTjdvsnuJ0: Downloading 1 format(s): 251\n",
      "[download] Destination: C:\\Users\\User\\Desktop\\eduSmile-master\\audio\\자연수와 사칙연산.webm\n",
      "[download] 100% of   10.58MiB in 00:00:02 at 4.60MiB/s   \n",
      "[ExtractAudio] Destination: C:\\Users\\User\\Desktop\\eduSmile-master\\audio\\자연수와 사칙연산.wav\n",
      "Deleting original file C:\\Users\\User\\Desktop\\eduSmile-master\\audio\\자연수와 사칙연산.webm (pass -k to keep)\n"
     ]
    },
    {
     "name": "stderr",
     "output_type": "stream",
     "text": [
      "Deprecated Feature: Support for Python version 3.8 has been deprecated. Please update to Python 3.9 or above\n"
     ]
    },
    {
     "name": "stdout",
     "output_type": "stream",
     "text": [
      "다운로드 완료! 저장 위치: C:\\Users\\User\\Desktop\\eduSmile-master\\audio\n",
      "\n",
      "[10/20] URL 처리 중...\n",
      "다운로드 시작...\n",
      "[youtube] Extracting URL: https://www.youtube.com/watch?v=6PhnsFlvdqY\n",
      "[youtube] 6PhnsFlvdqY: Downloading webpage\n",
      "[youtube] 6PhnsFlvdqY: Downloading ios player API JSON\n",
      "[youtube] 6PhnsFlvdqY: Downloading mweb player API JSON\n"
     ]
    },
    {
     "name": "stderr",
     "output_type": "stream",
     "text": [
      "ERROR: [youtube] 6PhnsFlvdqY: Video unavailable\n",
      "Deprecated Feature: Support for Python version 3.8 has been deprecated. Please update to Python 3.9 or above\n"
     ]
    },
    {
     "name": "stdout",
     "output_type": "stream",
     "text": [
      "Error: ERROR: [youtube] 6PhnsFlvdqY: Video unavailable\n",
      "\n",
      "[11/20] URL 처리 중...\n",
      "다운로드 시작...\n",
      "[youtube] Extracting URL: https://www.youtube.com/watch?v=T5A6oLjbigg\n",
      "[youtube] T5A6oLjbigg: Downloading webpage\n",
      "[youtube] T5A6oLjbigg: Downloading ios player API JSON\n",
      "[youtube] T5A6oLjbigg: Downloading mweb player API JSON\n"
     ]
    },
    {
     "name": "stderr",
     "output_type": "stream",
     "text": [
      "ERROR: [youtube] T5A6oLjbigg: Video unavailable\n",
      "Deprecated Feature: Support for Python version 3.8 has been deprecated. Please update to Python 3.9 or above\n"
     ]
    },
    {
     "name": "stdout",
     "output_type": "stream",
     "text": [
      "Error: ERROR: [youtube] T5A6oLjbigg: Video unavailable\n",
      "\n",
      "[12/20] URL 처리 중...\n",
      "다운로드 시작...\n",
      "[youtube] Extracting URL: https://www.youtube.com/watch?v=9N3cXaBzwbs&pp=ygUM7IKs7LmZ7Jew7IKw\n",
      "[youtube] 9N3cXaBzwbs: Downloading webpage\n",
      "[youtube] 9N3cXaBzwbs: Downloading ios player API JSON\n",
      "[youtube] 9N3cXaBzwbs: Downloading mweb player API JSON\n",
      "[youtube] 9N3cXaBzwbs: Downloading player a5032d18\n"
     ]
    },
    {
     "name": "stderr",
     "output_type": "stream",
     "text": [
      "WARNING: [youtube] Falling back to generic n function search\n",
      "         player = https://www.youtube.com/s/player/a5032d18/player_ias.vflset/en_US/base.js\n",
      "WARNING: [youtube] 9N3cXaBzwbs: nsig extraction failed: Some formats may be missing\n",
      "         n = SPbxm9gN4-KBaKMh ; player = https://www.youtube.com/s/player/a5032d18/player_ias.vflset/en_US/base.js\n",
      "WARNING: [youtube] Falling back to generic n function search\n",
      "         player = https://www.youtube.com/s/player/a5032d18/player_ias.vflset/en_US/base.js\n",
      "WARNING: [youtube] 9N3cXaBzwbs: nsig extraction failed: Some formats may be missing\n",
      "         n = zXherwXrufEFxZku ; player = https://www.youtube.com/s/player/a5032d18/player_ias.vflset/en_US/base.js\n"
     ]
    },
    {
     "name": "stdout",
     "output_type": "stream",
     "text": [
      "[youtube] 9N3cXaBzwbs: Downloading m3u8 information\n",
      "[info] 9N3cXaBzwbs: Downloading 1 format(s): 251\n",
      "[download] Destination: C:\\Users\\User\\Desktop\\eduSmile-master\\audio\\수포자수학_정수의 사칙 연산.webm\n",
      "[download] 100% of   11.42MiB in 00:00:02 at 4.09MiB/s   \n",
      "[ExtractAudio] Destination: C:\\Users\\User\\Desktop\\eduSmile-master\\audio\\수포자수학_정수의 사칙 연산.wav\n",
      "Deleting original file C:\\Users\\User\\Desktop\\eduSmile-master\\audio\\수포자수학_정수의 사칙 연산.webm (pass -k to keep)\n"
     ]
    },
    {
     "name": "stderr",
     "output_type": "stream",
     "text": [
      "Deprecated Feature: Support for Python version 3.8 has been deprecated. Please update to Python 3.9 or above\n"
     ]
    },
    {
     "name": "stdout",
     "output_type": "stream",
     "text": [
      "다운로드 완료! 저장 위치: C:\\Users\\User\\Desktop\\eduSmile-master\\audio\n",
      "\n",
      "[13/20] URL 처리 중...\n",
      "다운로드 시작...\n",
      "[youtube] Extracting URL: https://www.youtube.com/watch?v=c7aBl6E9R6U\n",
      "[youtube] c7aBl6E9R6U: Downloading webpage\n",
      "[youtube] c7aBl6E9R6U: Downloading ios player API JSON\n",
      "[youtube] c7aBl6E9R6U: Downloading mweb player API JSON\n"
     ]
    },
    {
     "name": "stderr",
     "output_type": "stream",
     "text": [
      "ERROR: [youtube] c7aBl6E9R6U: Video unavailable\n",
      "Deprecated Feature: Support for Python version 3.8 has been deprecated. Please update to Python 3.9 or above\n"
     ]
    },
    {
     "name": "stdout",
     "output_type": "stream",
     "text": [
      "Error: ERROR: [youtube] c7aBl6E9R6U: Video unavailable\n",
      "\n",
      "[14/20] URL 처리 중...\n",
      "다운로드 시작...\n",
      "[youtube] Extracting URL: https://www.youtube.com/watch?v=z3y1C14lQ3I&pp=ygUM7IKs7LmZ7Jew7IKw\n",
      "[youtube] z3y1C14lQ3I: Downloading webpage\n",
      "[youtube] z3y1C14lQ3I: Downloading ios player API JSON\n",
      "[youtube] z3y1C14lQ3I: Downloading mweb player API JSON\n",
      "[youtube] z3y1C14lQ3I: Downloading player a5032d18\n"
     ]
    },
    {
     "name": "stderr",
     "output_type": "stream",
     "text": [
      "WARNING: [youtube] Falling back to generic n function search\n",
      "         player = https://www.youtube.com/s/player/a5032d18/player_ias.vflset/en_US/base.js\n",
      "WARNING: [youtube] z3y1C14lQ3I: nsig extraction failed: Some formats may be missing\n",
      "         n = c0wB8PUUu1ftOL4D ; player = https://www.youtube.com/s/player/a5032d18/player_ias.vflset/en_US/base.js\n",
      "WARNING: [youtube] Falling back to generic n function search\n",
      "         player = https://www.youtube.com/s/player/a5032d18/player_ias.vflset/en_US/base.js\n",
      "WARNING: [youtube] z3y1C14lQ3I: nsig extraction failed: Some formats may be missing\n",
      "         n = L7D5WwJYu9BCkUUX ; player = https://www.youtube.com/s/player/a5032d18/player_ias.vflset/en_US/base.js\n"
     ]
    },
    {
     "name": "stdout",
     "output_type": "stream",
     "text": [
      "[youtube] z3y1C14lQ3I: Downloading m3u8 information\n",
      "[info] z3y1C14lQ3I: Downloading 1 format(s): 251\n",
      "[download] Destination: C:\\Users\\User\\Desktop\\eduSmile-master\\audio\\1.2 정수와 유리수 (4) 사칙연산 Part1 덧셈편1 ｜ 중1수학 1학기.webm\n",
      "[download] 100% of   10.84MiB in 00:00:06 at 1.74MiB/s     \n",
      "[ExtractAudio] Destination: C:\\Users\\User\\Desktop\\eduSmile-master\\audio\\1.2 정수와 유리수 (4) 사칙연산 Part1 덧셈편1 ｜ 중1수학 1학기.wav\n",
      "Deleting original file C:\\Users\\User\\Desktop\\eduSmile-master\\audio\\1.2 정수와 유리수 (4) 사칙연산 Part1 덧셈편1 ｜ 중1수학 1학기.webm (pass -k to keep)\n"
     ]
    },
    {
     "name": "stderr",
     "output_type": "stream",
     "text": [
      "Deprecated Feature: Support for Python version 3.8 has been deprecated. Please update to Python 3.9 or above\n"
     ]
    },
    {
     "name": "stdout",
     "output_type": "stream",
     "text": [
      "다운로드 완료! 저장 위치: C:\\Users\\User\\Desktop\\eduSmile-master\\audio\n",
      "\n",
      "[15/20] URL 처리 중...\n",
      "다운로드 시작...\n",
      "[youtube] Extracting URL: https://www.youtube.com/watch?v=aTln2E15erM\n",
      "[youtube] aTln2E15erM: Downloading webpage\n",
      "[youtube] aTln2E15erM: Downloading ios player API JSON\n",
      "[youtube] aTln2E15erM: Downloading mweb player API JSON\n",
      "[youtube] aTln2E15erM: Downloading player a5032d18\n"
     ]
    },
    {
     "name": "stderr",
     "output_type": "stream",
     "text": [
      "WARNING: [youtube] Falling back to generic n function search\n",
      "         player = https://www.youtube.com/s/player/a5032d18/player_ias.vflset/en_US/base.js\n",
      "WARNING: [youtube] aTln2E15erM: nsig extraction failed: Some formats may be missing\n",
      "         n = 4P33_ANELCadw-Rn ; player = https://www.youtube.com/s/player/a5032d18/player_ias.vflset/en_US/base.js\n",
      "WARNING: [youtube] Falling back to generic n function search\n",
      "         player = https://www.youtube.com/s/player/a5032d18/player_ias.vflset/en_US/base.js\n",
      "WARNING: [youtube] aTln2E15erM: nsig extraction failed: Some formats may be missing\n",
      "         n = 9JuV96OarGTyZ9Jm ; player = https://www.youtube.com/s/player/a5032d18/player_ias.vflset/en_US/base.js\n"
     ]
    },
    {
     "name": "stdout",
     "output_type": "stream",
     "text": [
      "[youtube] aTln2E15erM: Downloading m3u8 information\n",
      "[info] aTln2E15erM: Downloading 1 format(s): 140\n",
      "[download] Destination: C:\\Users\\User\\Desktop\\eduSmile-master\\audio\\Simplemaths의 수학 강의 - 방정식 - 음수의 사칙 연산 -2편-.m4a\n",
      "[download] 100% of    9.37MiB in 00:00:01 at 6.78MiB/s   \n",
      "[FixupM4a] Correcting container of \"C:\\Users\\User\\Desktop\\eduSmile-master\\audio\\Simplemaths의 수학 강의 - 방정식 - 음수의 사칙 연산 -2편-.m4a\"\n",
      "[ExtractAudio] Destination: C:\\Users\\User\\Desktop\\eduSmile-master\\audio\\Simplemaths의 수학 강의 - 방정식 - 음수의 사칙 연산 -2편-.wav\n",
      "Deleting original file C:\\Users\\User\\Desktop\\eduSmile-master\\audio\\Simplemaths의 수학 강의 - 방정식 - 음수의 사칙 연산 -2편-.m4a (pass -k to keep)\n"
     ]
    },
    {
     "name": "stderr",
     "output_type": "stream",
     "text": [
      "Deprecated Feature: Support for Python version 3.8 has been deprecated. Please update to Python 3.9 or above\n"
     ]
    },
    {
     "name": "stdout",
     "output_type": "stream",
     "text": [
      "다운로드 완료! 저장 위치: C:\\Users\\User\\Desktop\\eduSmile-master\\audio\n",
      "\n",
      "[16/20] URL 처리 중...\n",
      "다운로드 시작...\n",
      "[youtube] Extracting URL: https://www.youtube.com/watch?v=Nml5CyrflUs\n",
      "[youtube] Nml5CyrflUs: Downloading webpage\n",
      "[youtube] Nml5CyrflUs: Downloading ios player API JSON\n",
      "[youtube] Nml5CyrflUs: Downloading mweb player API JSON\n"
     ]
    },
    {
     "name": "stderr",
     "output_type": "stream",
     "text": [
      "ERROR: [youtube] Nml5CyrflUs: Video unavailable\n",
      "Deprecated Feature: Support for Python version 3.8 has been deprecated. Please update to Python 3.9 or above\n"
     ]
    },
    {
     "name": "stdout",
     "output_type": "stream",
     "text": [
      "Error: ERROR: [youtube] Nml5CyrflUs: Video unavailable\n",
      "\n",
      "[17/20] URL 처리 중...\n",
      "다운로드 시작...\n",
      "[youtube] Extracting URL: https://www.youtube.com/watch?v=-suRQmfPjTc\n",
      "[youtube] -suRQmfPjTc: Downloading webpage\n",
      "[youtube] -suRQmfPjTc: Downloading ios player API JSON\n",
      "[youtube] -suRQmfPjTc: Downloading mweb player API JSON\n",
      "[youtube] -suRQmfPjTc: Downloading player a5032d18\n"
     ]
    },
    {
     "name": "stderr",
     "output_type": "stream",
     "text": [
      "WARNING: [youtube] Falling back to generic n function search\n",
      "         player = https://www.youtube.com/s/player/a5032d18/player_ias.vflset/en_US/base.js\n",
      "WARNING: [youtube] -suRQmfPjTc: nsig extraction failed: Some formats may be missing\n",
      "         n = GreTYG2dffbhuMBk ; player = https://www.youtube.com/s/player/a5032d18/player_ias.vflset/en_US/base.js\n",
      "WARNING: [youtube] Falling back to generic n function search\n",
      "         player = https://www.youtube.com/s/player/a5032d18/player_ias.vflset/en_US/base.js\n",
      "WARNING: [youtube] -suRQmfPjTc: nsig extraction failed: Some formats may be missing\n",
      "         n = 4zHVLkAVOUTxwXWA ; player = https://www.youtube.com/s/player/a5032d18/player_ias.vflset/en_US/base.js\n"
     ]
    },
    {
     "name": "stdout",
     "output_type": "stream",
     "text": [
      "[youtube] -suRQmfPjTc: Downloading m3u8 information\n",
      "[info] -suRQmfPjTc: Downloading 1 format(s): 251\n",
      "[download] Destination: C:\\Users\\User\\Desktop\\eduSmile-master\\audio\\[수학] 중학교 1학년 유리수의 사칙연산.webm\n",
      "[download] 100% of    7.18MiB in 00:00:01 at 5.07MiB/s   \n",
      "[ExtractAudio] Destination: C:\\Users\\User\\Desktop\\eduSmile-master\\audio\\[수학] 중학교 1학년 유리수의 사칙연산.wav\n",
      "Deleting original file C:\\Users\\User\\Desktop\\eduSmile-master\\audio\\[수학] 중학교 1학년 유리수의 사칙연산.webm (pass -k to keep)\n"
     ]
    },
    {
     "name": "stderr",
     "output_type": "stream",
     "text": [
      "Deprecated Feature: Support for Python version 3.8 has been deprecated. Please update to Python 3.9 or above\n"
     ]
    },
    {
     "name": "stdout",
     "output_type": "stream",
     "text": [
      "다운로드 완료! 저장 위치: C:\\Users\\User\\Desktop\\eduSmile-master\\audio\n",
      "\n",
      "[18/20] URL 처리 중...\n",
      "다운로드 시작...\n",
      "[youtube] Extracting URL: https://www.youtube.com/watch?v=zsTtzypC0yo\n",
      "[youtube] zsTtzypC0yo: Downloading webpage\n",
      "[youtube] zsTtzypC0yo: Downloading ios player API JSON\n",
      "[youtube] zsTtzypC0yo: Downloading mweb player API JSON\n"
     ]
    },
    {
     "name": "stderr",
     "output_type": "stream",
     "text": [
      "ERROR: [youtube] zsTtzypC0yo: Video unavailable\n",
      "Deprecated Feature: Support for Python version 3.8 has been deprecated. Please update to Python 3.9 or above\n"
     ]
    },
    {
     "name": "stdout",
     "output_type": "stream",
     "text": [
      "Error: ERROR: [youtube] zsTtzypC0yo: Video unavailable\n",
      "\n",
      "[19/20] URL 처리 중...\n",
      "다운로드 시작...\n",
      "[youtube] Extracting URL: https://www.youtube.com/watch?v=E7YyNgT-qaY\n",
      "[youtube] E7YyNgT-qaY: Downloading webpage\n",
      "[youtube] E7YyNgT-qaY: Downloading ios player API JSON\n",
      "[youtube] E7YyNgT-qaY: Downloading mweb player API JSON\n",
      "[youtube] E7YyNgT-qaY: Downloading player a5032d18\n"
     ]
    },
    {
     "name": "stderr",
     "output_type": "stream",
     "text": [
      "WARNING: [youtube] Falling back to generic n function search\n",
      "         player = https://www.youtube.com/s/player/a5032d18/player_ias.vflset/en_US/base.js\n",
      "WARNING: [youtube] E7YyNgT-qaY: nsig extraction failed: Some formats may be missing\n",
      "         n = OS5182pPhKk-ylrb ; player = https://www.youtube.com/s/player/a5032d18/player_ias.vflset/en_US/base.js\n",
      "WARNING: [youtube] Falling back to generic n function search\n",
      "         player = https://www.youtube.com/s/player/a5032d18/player_ias.vflset/en_US/base.js\n",
      "WARNING: [youtube] E7YyNgT-qaY: nsig extraction failed: Some formats may be missing\n",
      "         n = m3Paw_TWZ15e2QKV ; player = https://www.youtube.com/s/player/a5032d18/player_ias.vflset/en_US/base.js\n"
     ]
    },
    {
     "name": "stdout",
     "output_type": "stream",
     "text": [
      "[youtube] E7YyNgT-qaY: Downloading m3u8 information\n",
      "[info] E7YyNgT-qaY: Downloading 1 format(s): 251\n",
      "[download] Destination: C:\\Users\\User\\Desktop\\eduSmile-master\\audio\\정수 사칙연산.webm\n",
      "[download] 100% of    7.99MiB in 00:00:02 at 3.45MiB/s   \n",
      "[ExtractAudio] Destination: C:\\Users\\User\\Desktop\\eduSmile-master\\audio\\정수 사칙연산.wav\n",
      "Deleting original file C:\\Users\\User\\Desktop\\eduSmile-master\\audio\\정수 사칙연산.webm (pass -k to keep)\n"
     ]
    },
    {
     "name": "stderr",
     "output_type": "stream",
     "text": [
      "Deprecated Feature: Support for Python version 3.8 has been deprecated. Please update to Python 3.9 or above\n"
     ]
    },
    {
     "name": "stdout",
     "output_type": "stream",
     "text": [
      "다운로드 완료! 저장 위치: C:\\Users\\User\\Desktop\\eduSmile-master\\audio\n",
      "\n",
      "[20/20] URL 처리 중...\n",
      "다운로드 시작...\n",
      "[youtube] Extracting URL: https://www.youtube.com/watch?v=GnaQolCOvZw\n",
      "[youtube] GnaQolCOvZw: Downloading webpage\n",
      "[youtube] GnaQolCOvZw: Downloading ios player API JSON\n",
      "[youtube] GnaQolCOvZw: Downloading mweb player API JSON\n"
     ]
    },
    {
     "name": "stderr",
     "output_type": "stream",
     "text": [
      "ERROR: [youtube] GnaQolCOvZw: Video unavailable\n"
     ]
    },
    {
     "name": "stdout",
     "output_type": "stream",
     "text": [
      "Error: ERROR: [youtube] GnaQolCOvZw: Video unavailable\n"
     ]
    }
   ],
   "source": [
    "process_youtube_urls()"
   ]
  },
  {
   "cell_type": "markdown",
   "metadata": {},
   "source": [
    "#### 음성에서 텍스트로 변환"
   ]
  },
  {
   "cell_type": "code",
   "execution_count": 60,
   "metadata": {},
   "outputs": [],
   "source": [
    "import requests\n",
    "import json\n",
    "import base64\n",
    "\n",
    "class ClovaSpeechClient:\n",
    "    \"\"\"\n",
    "    네이버 클로바 Speech-to-Text API 클라이언트\n",
    "    \"\"\"\n",
    "    def __init__(self, client_id, client_secret):\n",
    "        self.api_url = \"https://naveropenapi.apigw.ntruss.com/recog/v1/stt\"\n",
    "        self.client_id = client_id\n",
    "        self.client_secret = client_secret\n",
    "\n",
    "    def speech_to_text(self, audio_file, lang='Kor'):\n",
    "        \"\"\"\n",
    "        음성 파일을 텍스트로 변환\n",
    "        \n",
    "        Parameters:\n",
    "        - audio_file (str): 음성 파일 경로 (.wav, .mp3, .opus 등)\n",
    "        - lang (str): 언어 설정 (Kor, Eng, Jpn, Chn)\n",
    "        \n",
    "        Returns:\n",
    "        - str: 변환된 텍스트\n",
    "        \"\"\"\n",
    "        headers = {\n",
    "            \"X-NCP-APIGW-API-KEY-ID\": self.client_id,\n",
    "            \"X-NCP-APIGW-API-KEY\": self.client_secret,\n",
    "            \"Content-Type\": \"application/octet-stream\"\n",
    "        }\n",
    "        \n",
    "        params = {\n",
    "            \"lang\": lang,\n",
    "            \"completion\": \"sync\"  # 동기 호출\n",
    "        }\n",
    "        \n",
    "        try:\n",
    "            # 음성 파일 읽기 및 크기 확인\n",
    "            with open(audio_file, 'rb') as f:\n",
    "                audio_data = f.read()\n",
    "                \n",
    "            # 파일 크기 확인 (최대 허용 크기: 300MB)\n",
    "            file_size_mb = len(audio_data) / (1024 * 1024)\n",
    "            if file_size_mb > 300:\n",
    "                raise Exception(f\"파일 크기가 너무 큽니다: {file_size_mb:.2f}MB (최대 300MB)\")\n",
    "            \n",
    "            print(f\"파일 크기: {file_size_mb:.2f}MB\")\n",
    "            \n",
    "            # API 요청\n",
    "            response = requests.post(\n",
    "                self.api_url,\n",
    "                headers=headers,\n",
    "                params=params,\n",
    "                data=audio_data\n",
    "            )\n",
    "            \n",
    "            # 응답 상태 확인 및 디버깅\n",
    "            print(f\"Response Status Code: {response.status_code}\")\n",
    "            print(f\"Response Headers: {response.headers}\")\n",
    "            \n",
    "            try:\n",
    "                result = response.json()\n",
    "                print(f\"Response Content: {result}\")\n",
    "            except json.JSONDecodeError:\n",
    "                print(f\"Raw Response Content: {response.text}\")\n",
    "                raise Exception(\"API 응답을 JSON으로 파싱할 수 없습니다.\")\n",
    "            \n",
    "            if response.status_code == 200:\n",
    "                if 'text' not in result:\n",
    "                    raise Exception(\"API 응답에 텍스트 결과가 없습니다.\")\n",
    "                return result.get('text', '')\n",
    "            else:\n",
    "                error_message = result.get('errorMessage', '')\n",
    "                error_code = result.get('errorCode', '')\n",
    "                raise Exception(f\"API 호출 실패 - Status: {response.status_code}, Code: {error_code}, Message: {error_message}\")\n",
    "                \n",
    "        except requests.RequestException as e:\n",
    "            raise Exception(f\"API 요청 중 오류 발생: {str(e)}\")\n",
    "        except Exception as e:\n",
    "            raise Exception(f\"음성 변환 중 오류 발생: {str(e)}\")\n",
    "\n",
    "# 사용 예시\n"
   ]
  },
  {
   "cell_type": "markdown",
   "metadata": {},
   "source": [
    "#### 클로바 버전\n"
   ]
  },
  {
   "cell_type": "code",
   "execution_count": 61,
   "metadata": {},
   "outputs": [
    {
     "name": "stdout",
     "output_type": "stream",
     "text": [
      "\n",
      "처리 중: 1.2 정수와 유리수 (4) 사칙연산 Part1 덧셈편1 ｜ 중1수학 1학기.wav\n",
      "파일 경로: C:\\Users\\User\\Desktop\\eduSmile-master\\audio\\1.2 정수와 유리수 (4) 사칙연산 Part1 덧셈편1 ｜ 중1수학 1학기.wav\n",
      "파일 크기: 145.31MB\n",
      "Response Status Code: 413\n",
      "Response Headers: {'Server': 'nginx', 'Date': 'Thu, 09 Jan 2025 05:45:10 GMT', 'Content-Type': 'application/json', 'Content-Length': '66', 'Connection': 'close'}\n",
      "Response Content: {'error': {'errorCode': '430', 'message': 'Request Entity Too Large'}}\n",
      "\n",
      "파일 처리 실패: 1.2 정수와 유리수 (4) 사칙연산 Part1 덧셈편1 ｜ 중1수학 1학기.wav\n",
      "오류 내용: 음성 변환 중 오류 발생: API 호출 실패 - Status: 413, Code: , Message: \n",
      "\n",
      "처리 중: Simplemaths의 수학 강의 - 방정식 - 음수의 사칙 연산 -2편-.wav\n",
      "파일 경로: C:\\Users\\User\\Desktop\\eduSmile-master\\audio\\Simplemaths의 수학 강의 - 방정식 - 음수의 사칙 연산 -2편-.wav\n",
      "파일 크기: 102.14MB\n",
      "Response Status Code: 413\n",
      "Response Headers: {'Server': 'nginx', 'Date': 'Thu, 09 Jan 2025 05:45:30 GMT', 'Content-Type': 'application/json', 'Content-Length': '66', 'Connection': 'close'}\n",
      "Response Content: {'error': {'errorCode': '430', 'message': 'Request Entity Too Large'}}\n",
      "\n",
      "파일 처리 실패: Simplemaths의 수학 강의 - 방정식 - 음수의 사칙 연산 -2편-.wav\n",
      "오류 내용: 음성 변환 중 오류 발생: API 호출 실패 - Status: 413, Code: , Message: \n",
      "\n",
      "처리 중: [8차시] 정수와 유리수의 사칙연산.wav\n",
      "파일 경로: C:\\Users\\User\\Desktop\\eduSmile-master\\audio\\[8차시] 정수와 유리수의 사칙연산.wav\n",
      "파일 크기: 65.86MB\n",
      "Response Status Code: 413\n",
      "Response Headers: {'Server': 'nginx', 'Date': 'Thu, 09 Jan 2025 05:45:49 GMT', 'Content-Type': 'text/html', 'Content-Length': '192', 'Connection': 'keep-alive', 'x-ncp-trace-id': '6co9h64sj6d1i32ohn70s30pj5', 'x-ncp-apigw-response-origin': 'ENDPOINT'}\n",
      "Raw Response Content: <html>\n",
      "<head><title>413 Request Entity Too Large</title></head>\n",
      "<body bgcolor=\"white\">\n",
      "<center><h1>413 Request Entity Too Large</h1></center>\n",
      "<hr><center>nginx</center>\n",
      "</body>\n",
      "</html>\n",
      "\n",
      "\n",
      "파일 처리 실패: [8차시] 정수와 유리수의 사칙연산.wav\n",
      "오류 내용: 음성 변환 중 오류 발생: API 응답을 JSON으로 파싱할 수 없습니다.\n",
      "\n",
      "처리 중: [수학] 중학교 1학년 유리수의 사칙연산.wav\n",
      "파일 경로: C:\\Users\\User\\Desktop\\eduSmile-master\\audio\\[수학] 중학교 1학년 유리수의 사칙연산.wav\n",
      "파일 크기: 106.44MB\n",
      "Response Status Code: 413\n",
      "Response Headers: {'Server': 'nginx', 'Date': 'Thu, 09 Jan 2025 05:45:49 GMT', 'Content-Type': 'application/json', 'Content-Length': '66', 'Connection': 'close'}\n",
      "Response Content: {'error': {'errorCode': '430', 'message': 'Request Entity Too Large'}}\n",
      "\n",
      "파일 처리 실패: [수학] 중학교 1학년 유리수의 사칙연산.wav\n",
      "오류 내용: 음성 변환 중 오류 발생: API 호출 실패 - Status: 413, Code: , Message: \n",
      "\n",
      "처리 중: [수학史] 사칙연산(덧셈, 뺄셈,곱셈,나눗셈) 기호의 유래.wav\n",
      "파일 경로: C:\\Users\\User\\Desktop\\eduSmile-master\\audio\\[수학史] 사칙연산(덧셈, 뺄셈,곱셈,나눗셈) 기호의 유래.wav\n",
      "파일 크기: 94.59MB\n",
      "Response Status Code: 413\n",
      "Response Headers: {'Server': 'nginx', 'Date': 'Thu, 09 Jan 2025 05:46:11 GMT', 'Content-Type': 'text/html', 'Content-Length': '192', 'Connection': 'keep-alive', 'x-ncp-trace-id': '30d366cp3id9i66e9l6pim4o9h', 'x-ncp-apigw-response-origin': 'ENDPOINT'}\n",
      "Raw Response Content: <html>\n",
      "<head><title>413 Request Entity Too Large</title></head>\n",
      "<body bgcolor=\"white\">\n",
      "<center><h1>413 Request Entity Too Large</h1></center>\n",
      "<hr><center>nginx</center>\n",
      "</body>\n",
      "</html>\n",
      "\n",
      "\n",
      "파일 처리 실패: [수학史] 사칙연산(덧셈, 뺄셈,곱셈,나눗셈) 기호의 유래.wav\n",
      "오류 내용: 음성 변환 중 오류 발생: API 응답을 JSON으로 파싱할 수 없습니다.\n",
      "\n",
      "처리 중: 수포자수학_정수의 사칙 연산.wav\n",
      "파일 경로: C:\\Users\\User\\Desktop\\eduSmile-master\\audio\\수포자수학_정수의 사칙 연산.wav\n",
      "파일 크기: 145.01MB\n",
      "Response Status Code: 413\n",
      "Response Headers: {'Server': 'nginx', 'Date': 'Thu, 09 Jan 2025 05:46:11 GMT', 'Content-Type': 'application/json', 'Content-Length': '66', 'Connection': 'close'}\n",
      "Response Content: {'error': {'errorCode': '430', 'message': 'Request Entity Too Large'}}\n",
      "\n",
      "파일 처리 실패: 수포자수학_정수의 사칙 연산.wav\n",
      "오류 내용: 음성 변환 중 오류 발생: API 호출 실패 - Status: 413, Code: , Message: \n",
      "\n",
      "처리 중: 수학기초 - 사칙연산편.wav\n",
      "파일 경로: C:\\Users\\User\\Desktop\\eduSmile-master\\audio\\수학기초 - 사칙연산편.wav\n",
      "파일 크기: 116.83MB\n",
      "Response Status Code: 413\n",
      "Response Headers: {'Server': 'nginx', 'Date': 'Thu, 09 Jan 2025 05:46:23 GMT', 'Content-Type': 'application/json', 'Content-Length': '66', 'Connection': 'close'}\n",
      "Response Content: {'error': {'errorCode': '430', 'message': 'Request Entity Too Large'}}\n",
      "\n",
      "파일 처리 실패: 수학기초 - 사칙연산편.wav\n",
      "오류 내용: 음성 변환 중 오류 발생: API 호출 실패 - Status: 413, Code: , Message: \n",
      "\n",
      "처리 중: 수학의 기초 3. 사칙연산 _ 수학 포기하지 마세요 이 정도만 알면 되요..wav\n",
      "파일 경로: C:\\Users\\User\\Desktop\\eduSmile-master\\audio\\수학의 기초 3. 사칙연산 _ 수학 포기하지 마세요 이 정도만 알면 되요..wav\n",
      "파일 크기: 112.41MB\n",
      "Response Status Code: 413\n",
      "Response Headers: {'Server': 'nginx', 'Date': 'Thu, 09 Jan 2025 05:46:36 GMT', 'Content-Type': 'application/json', 'Content-Length': '66', 'Connection': 'close'}\n",
      "Response Content: {'error': {'errorCode': '430', 'message': 'Request Entity Too Large'}}\n",
      "\n",
      "파일 처리 실패: 수학의 기초 3. 사칙연산 _ 수학 포기하지 마세요 이 정도만 알면 되요..wav\n",
      "오류 내용: 음성 변환 중 오류 발생: API 호출 실패 - Status: 413, Code: , Message: \n",
      "\n",
      "처리 중: 자연수와 사칙연산.wav\n",
      "파일 경로: C:\\Users\\User\\Desktop\\eduSmile-master\\audio\\자연수와 사칙연산.wav\n",
      "파일 크기: 145.77MB\n",
      "Response Status Code: 413\n",
      "Response Headers: {'Server': 'nginx', 'Date': 'Thu, 09 Jan 2025 05:46:49 GMT', 'Content-Type': 'application/json', 'Content-Length': '66', 'Connection': 'close'}\n",
      "Response Content: {'error': {'errorCode': '430', 'message': 'Request Entity Too Large'}}\n",
      "\n",
      "파일 처리 실패: 자연수와 사칙연산.wav\n",
      "오류 내용: 음성 변환 중 오류 발생: API 호출 실패 - Status: 413, Code: , Message: \n",
      "\n",
      "처리 중: 정수 사칙연산.wav\n",
      "파일 경로: C:\\Users\\User\\Desktop\\eduSmile-master\\audio\\정수 사칙연산.wav\n",
      "파일 크기: 105.44MB\n",
      "Response Status Code: 413\n",
      "Response Headers: {'Server': 'nginx', 'Date': 'Thu, 09 Jan 2025 05:47:08 GMT', 'Content-Type': 'application/json', 'Content-Length': '66', 'Connection': 'close'}\n",
      "Response Content: {'error': {'errorCode': '430', 'message': 'Request Entity Too Large'}}\n",
      "\n",
      "파일 처리 실패: 정수 사칙연산.wav\n",
      "오류 내용: 음성 변환 중 오류 발생: API 호출 실패 - Status: 413, Code: , Message: \n",
      "\n",
      "처리 중: 정승제 인생 ′′최초′′수학 덧셈(사칙연산) 강의 OPEN(？) [내일은 천재] ｜ KBS Joy 220922 방송.wav\n",
      "파일 경로: C:\\Users\\User\\Desktop\\eduSmile-master\\audio\\정승제 인생 ′′최초′′수학 덧셈(사칙연산) 강의 OPEN(？) [내일은 천재] ｜ KBS Joy 220922 방송.wav\n",
      "파일 크기: 167.84MB\n",
      "Response Status Code: 413\n",
      "Response Headers: {'Server': 'nginx', 'Date': 'Thu, 09 Jan 2025 05:47:21 GMT', 'Content-Type': 'application/json', 'Content-Length': '66', 'Connection': 'close'}\n",
      "Response Content: {'error': {'errorCode': '430', 'message': 'Request Entity Too Large'}}\n",
      "\n",
      "파일 처리 실패: 정승제 인생 ′′최초′′수학 덧셈(사칙연산) 강의 OPEN(？) [내일은 천재] ｜ KBS Joy 220922 방송.wav\n",
      "오류 내용: 음성 변환 중 오류 발생: API 호출 실패 - Status: 413, Code: , Message: \n"
     ]
    }
   ],
   "source": [
    "\n",
    "import os\n",
    "from pathlib import Path\n",
    "\n",
    "# API 인증 정보 설정\n",
    "# 사용 예시    # API 인증 정보 설정\n",
    "CLIENT_ID = \"8wx5qqkgjj\"\n",
    "CLIENT_SECRET = \"XVa7Xy8aJwxRaWLeuq72VQzwe668mbIRcYTCwEfX\"\n",
    "\n",
    "# 경로 설정\n",
    "audio_dir = r\"C:\\Users\\User\\Desktop\\eduSmile-master\\audio\"\n",
    "text_dir = r\"C:\\Users\\User\\Desktop\\eduSmile-master\\text\"\n",
    "\n",
    "# 클라이언트 초기화\n",
    "stt_client = ClovaSpeechClient(CLIENT_ID, CLIENT_SECRET)\n",
    "\n",
    "try:\n",
    "    # wav 파일 목록 가져오기\n",
    "    wav_files = sorted([f for f in os.listdir(audio_dir) if f.endswith('.wav')])\n",
    "    \n",
    "    # 각 wav 파일 처리\n",
    "    for i, wav_file in enumerate(wav_files, 1):\n",
    "        wav_path = os.path.join(audio_dir, wav_file)\n",
    "        \n",
    "        try:\n",
    "            # 파일 존재 확인\n",
    "            if not os.path.exists(wav_path):\n",
    "                print(f\"파일을 찾을 수 없음: {wav_file}\")\n",
    "                continue\n",
    "                \n",
    "            # 음성을 텍스트로 변환\n",
    "            print(f\"\\n처리 중: {wav_file}\")\n",
    "            print(f\"파일 경로: {wav_path}\")\n",
    "            \n",
    "            result = stt_client.speech_to_text(\n",
    "                audio_file=wav_path,\n",
    "                lang=\"Kor\"  # 한국어 음성 인식\n",
    "            )\n",
    "            \n",
    "            # 결과를 텍스트 파일로 저장\n",
    "            text_filename = f\"{i:03d}.txt\"  # 001.txt, 002.txt 형식\n",
    "            text_path = os.path.join(text_dir, text_filename)\n",
    "            \n",
    "            with open(text_path, 'w', encoding='utf-8') as f:\n",
    "                f.write(result)\n",
    "            \n",
    "            print(f\"변환 성공 - 저장 완료: {text_filename}\")\n",
    "            print(f\"변환된 텍스트: {result[:100]}...\")  # 처음 100자만 출력\n",
    "            \n",
    "        except Exception as e:\n",
    "            print(f\"\\n파일 처리 실패: {wav_file}\")\n",
    "            print(f\"오류 내용: {str(e)}\")\n",
    "            continue  # 다음 파일 처리 계속\n",
    "        \n",
    "except Exception as e:\n",
    "    print(f\"오류 발생: {str(e)}\")"
   ]
  },
  {
   "cell_type": "markdown",
   "metadata": {},
   "source": [
    "#### Whisper |"
   ]
  },
  {
   "cell_type": "code",
   "execution_count": 63,
   "metadata": {},
   "outputs": [
    {
     "ename": "TypeError",
     "evalue": "argument of type 'NoneType' is not iterable",
     "output_type": "error",
     "traceback": [
      "\u001b[1;31m---------------------------------------------------------------------------\u001b[0m",
      "\u001b[1;31mTypeError\u001b[0m                                 Traceback (most recent call last)",
      "Cell \u001b[1;32mIn[63], line 3\u001b[0m\n\u001b[0;32m      1\u001b[0m \u001b[38;5;28;01mimport\u001b[39;00m \u001b[38;5;21;01mos\u001b[39;00m\n\u001b[0;32m      2\u001b[0m \u001b[38;5;28;01mfrom\u001b[39;00m \u001b[38;5;21;01mpathlib\u001b[39;00m \u001b[38;5;28;01mimport\u001b[39;00m Path\n\u001b[1;32m----> 3\u001b[0m \u001b[38;5;28;01mimport\u001b[39;00m \u001b[38;5;21;01mwhisper\u001b[39;00m\n\u001b[0;32m      4\u001b[0m \u001b[38;5;28;01mimport\u001b[39;00m \u001b[38;5;21;01mtorch\u001b[39;00m\n\u001b[0;32m      5\u001b[0m \u001b[38;5;28;01mimport\u001b[39;00m \u001b[38;5;21;01mnumpy\u001b[39;00m \u001b[38;5;28;01mas\u001b[39;00m \u001b[38;5;21;01mnp\u001b[39;00m\n",
      "File \u001b[1;32mc:\\Users\\User\\anaconda3\\envs\\edusmile\\lib\\site-packages\\whisper.py:69\u001b[0m\n\u001b[0;32m     67\u001b[0m \u001b[38;5;28;01mif\u001b[39;00m CAN_FALLOCATE:\n\u001b[0;32m     68\u001b[0m   libc_name \u001b[38;5;241m=\u001b[39m ctypes\u001b[38;5;241m.\u001b[39mutil\u001b[38;5;241m.\u001b[39mfind_library(\u001b[38;5;124m'\u001b[39m\u001b[38;5;124mc\u001b[39m\u001b[38;5;124m'\u001b[39m)\n\u001b[1;32m---> 69\u001b[0m   libc \u001b[38;5;241m=\u001b[39m \u001b[43mctypes\u001b[49m\u001b[38;5;241;43m.\u001b[39;49m\u001b[43mCDLL\u001b[49m\u001b[43m(\u001b[49m\u001b[43mlibc_name\u001b[49m\u001b[43m)\u001b[49m\n\u001b[0;32m     70\u001b[0m   c_off64_t \u001b[38;5;241m=\u001b[39m ctypes\u001b[38;5;241m.\u001b[39mc_int64\n\u001b[0;32m     71\u001b[0m   c_off_t \u001b[38;5;241m=\u001b[39m ctypes\u001b[38;5;241m.\u001b[39mc_int\n",
      "File \u001b[1;32mc:\\Users\\User\\anaconda3\\envs\\edusmile\\lib\\ctypes\\__init__.py:363\u001b[0m, in \u001b[0;36mCDLL.__init__\u001b[1;34m(self, name, mode, handle, use_errno, use_last_error, winmode)\u001b[0m\n\u001b[0;32m    361\u001b[0m \u001b[38;5;28;01mimport\u001b[39;00m \u001b[38;5;21;01mnt\u001b[39;00m\n\u001b[0;32m    362\u001b[0m mode \u001b[38;5;241m=\u001b[39m nt\u001b[38;5;241m.\u001b[39m_LOAD_LIBRARY_SEARCH_DEFAULT_DIRS\n\u001b[1;32m--> 363\u001b[0m \u001b[38;5;28;01mif\u001b[39;00m \u001b[38;5;124;43m'\u001b[39;49m\u001b[38;5;124;43m/\u001b[39;49m\u001b[38;5;124;43m'\u001b[39;49m\u001b[43m \u001b[49m\u001b[38;5;129;43;01min\u001b[39;49;00m\u001b[43m \u001b[49m\u001b[43mname\u001b[49m \u001b[38;5;129;01mor\u001b[39;00m \u001b[38;5;124m'\u001b[39m\u001b[38;5;130;01m\\\\\u001b[39;00m\u001b[38;5;124m'\u001b[39m \u001b[38;5;129;01min\u001b[39;00m name:\n\u001b[0;32m    364\u001b[0m     \u001b[38;5;28mself\u001b[39m\u001b[38;5;241m.\u001b[39m_name \u001b[38;5;241m=\u001b[39m nt\u001b[38;5;241m.\u001b[39m_getfullpathname(\u001b[38;5;28mself\u001b[39m\u001b[38;5;241m.\u001b[39m_name)\n\u001b[0;32m    365\u001b[0m     mode \u001b[38;5;241m|\u001b[39m\u001b[38;5;241m=\u001b[39m nt\u001b[38;5;241m.\u001b[39m_LOAD_LIBRARY_SEARCH_DLL_LOAD_DIR\n",
      "\u001b[1;31mTypeError\u001b[0m: argument of type 'NoneType' is not iterable"
     ]
    }
   ],
   "source": [
    "import os\n",
    "from pathlib import Path\n",
    "import openai\n",
    "from openai import OpenAI\n",
    "import time\n",
    "\n",
    "class WhisperTranscriber:\n",
    "    def __init__(self, api_key):\n",
    "        \"\"\"\n",
    "        OpenAI Whisper API 초기화\n",
    "        \n",
    "        Parameters:\n",
    "        - api_key (str): OpenAI API 키\n",
    "        \"\"\"\n",
    "        self.client = OpenAI(api_key=api_key)\n",
    "\n",
    "    def transcribe_audio(self, audio_path):\n",
    "        \"\"\"\n",
    "        음성 파일을 텍스트로 변환\n",
    "        \n",
    "        Parameters:\n",
    "        - audio_path (str): 음성 파일 경로\n",
    "        \n",
    "        Returns:\n",
    "        - str: 변환된 텍스트\n",
    "        \"\"\"\n",
    "        try:\n",
    "            print(f\"\\nProcessing: {os.path.basename(audio_path)}\")\n",
    "            \n",
    "            # 파일 열기\n",
    "            with open(audio_path, \"rb\") as audio_file:\n",
    "                # Whisper API 호출\n",
    "                result = self.client.audio.transcriptions.create(\n",
    "                    model=\"whisper-1\",\n",
    "                    file=audio_file,\n",
    "                    language=\"ko\",  # 한국어\n",
    "                    response_format=\"text\"\n",
    "                )\n",
    "            \n",
    "            return result\n",
    "            \n",
    "        except Exception as e:\n",
    "            raise Exception(f\"Transcription failed: {str(e)}\")\n",
    "\n",
    "def process_directory(audio_dir, output_dir, api_key):\n",
    "    \"\"\"\n",
    "    디렉토리 내의 모든 음성 파일 처리\n",
    "    \n",
    "    Parameters:\n",
    "    - audio_dir (str): 음성 파일이 있는 디렉토리 경로\n",
    "    - output_dir (str): 결과를 저장할 디렉토리 경로\n",
    "    - api_key (str): OpenAI API 키\n",
    "    \"\"\"\n",
    "    # 출력 디렉토리 생성\n",
    "    os.makedirs(output_dir, exist_ok=True)\n",
    "    \n",
    "    # Whisper 초기화\n",
    "    transcriber = WhisperTranscriber(api_key)\n",
    "    \n",
    "    # 음성 파일 목록 가져오기 (지원 형식: m4a, mp3, mp4, mpeg, mpga, wav, webm)\n",
    "    audio_files = sorted([\n",
    "        f for f in os.listdir(audio_dir)\n",
    "        if f.lower().endswith(('.m4a', '.mp3', '.mp4', '.mpeg', '.mpga', '.wav', '.webm'))\n",
    "    ])\n",
    "    \n",
    "    print(f\"\\nFound {len(audio_files)} audio files to process\")\n",
    "    \n",
    "    # 각 파일 처리\n",
    "    for i, audio_file in enumerate(audio_files, 1):\n",
    "        try:\n",
    "            print(f\"\\n=== Processing file {i}/{len(audio_files)} ===\")\n",
    "            print(f\"File: {audio_file}\")\n",
    "            \n",
    "            audio_path = os.path.join(audio_dir, audio_file)\n",
    "            \n",
    "            # 파일 크기 확인 (API 제한: 25MB)\n",
    "            file_size_mb = os.path.getsize(audio_path) / (1024 * 1024)\n",
    "            if file_size_mb > 25:\n",
    "                print(f\"File size ({file_size_mb:.2f}MB) exceeds 25MB limit, skipping...\")\n",
    "                continue\n",
    "            \n",
    "            # 음성을 텍스트로 변환\n",
    "            text = transcriber.transcribe_audio(audio_path)\n",
    "            \n",
    "            # 결과를 파일로 저장\n",
    "            output_file = f\"{i:03d}.txt\"\n",
    "            output_path = os.path.join(output_dir, output_file)\n",
    "            \n",
    "            with open(output_path, 'w', encoding='utf-8') as f:\n",
    "                f.write(text)\n",
    "            \n",
    "            print(f\"Successfully saved to: {output_file}\")\n",
    "            print(f\"Transcribed text (preview): {text[:200]}...\")\n",
    "            \n",
    "            # API 요청 제한을 위한 대기\n",
    "            if i < len(audio_files):\n",
    "                print(\"Waiting 2 seconds before next file...\")\n",
    "                time.sleep(2)\n",
    "            \n",
    "        except Exception as e:\n",
    "            print(f\"\\nError processing {audio_file}\")\n",
    "            print(f\"Error details: {str(e)}\")\n",
    "            continue\n",
    "\n"
   ]
  },
  {
   "cell_type": "code",
   "execution_count": null,
   "metadata": {},
   "outputs": [],
   "source": [
    "# 경로 설정\n",
    "audio_dir = r\"C:\\Users\\User\\Desktop\\eduSmile-master\\audio\"\n",
    "text_dir = r\"C:\\Users\\User\\Desktop\\eduSmile-master\\text\"\n",
    "# OpenAI API 키 설정\n",
    "api_key = \"your-api-key-here\"  # OpenAI API 키를 여기에 입력하세요\n",
    "\n",
    "try:\n",
    "    # 디렉토리 내 모든 파일 처리\n",
    "    process_directory(audio_dir, text_dir, api_key)\n",
    "    print(\"\\nProcessing completed successfully!\")\n",
    "    \n",
    "except Exception as e:\n",
    "    print(f\"\\nAn error occurred: {str(e)}\")"
   ]
  },
  {
   "cell_type": "markdown",
   "metadata": {},
   "source": [
    "#### 모델 학습"
   ]
  },
  {
   "cell_type": "code",
   "execution_count": null,
   "metadata": {},
   "outputs": [],
   "source": [
    "import torch\n",
    "from transformers import BertTokenizer, BertForSequenceClassification\n",
    "from torch.utils.data import Dataset, DataLoader\n",
    "import numpy as np\n",
    "\n",
    "class LectureDataset(Dataset):\n",
    "    def __init__(self, texts, labels, tokenizer, max_len=512):\n",
    "        self.texts = texts\n",
    "        self.labels = labels\n",
    "        self.tokenizer = tokenizer\n",
    "        self.max_len = max_len\n",
    "        \n",
    "    def __len__(self):\n",
    "        return len(self.texts)\n",
    "    \n",
    "    def __getitem__(self, idx):\n",
    "        text = str(self.texts[idx])\n",
    "        label = self.labels[idx]\n",
    "        \n",
    "        encoding = self.tokenizer.encode_plus(\n",
    "            text,\n",
    "            add_special_tokens=True,\n",
    "            max_length=self.max_len,\n",
    "            return_token_type_ids=False,\n",
    "            padding='max_length',\n",
    "            truncation=True,\n",
    "            return_attention_mask=True,\n",
    "            return_tensors='pt'\n",
    "        )\n",
    "        \n",
    "        return {\n",
    "            'text': text,\n",
    "            'input_ids': encoding['input_ids'].flatten(),\n",
    "            'attention_mask': encoding['attention_mask'].flatten(),\n",
    "            'label': torch.tensor(label, dtype=torch.long)\n",
    "        }\n",
    "\n",
    "def train_classifier(train_texts, train_labels, model_name='bert-base-multilingual-cased'):\n",
    "    # 토크나이저와 모델 초기화\n",
    "    tokenizer = BertTokenizer.from_pretrained(model_name)\n",
    "    model = BertForSequenceClassification.from_pretrained(\n",
    "        model_name,\n",
    "        num_labels=2  # 수업내용(0)과 공지사항(1)\n",
    "    )\n",
    "    \n",
    "    # 데이터셋 생성\n",
    "    dataset = LectureDataset(train_texts, train_labels, tokenizer)\n",
    "    train_loader = DataLoader(dataset, batch_size=8, shuffle=True)\n",
    "    \n",
    "    # 학습 설정\n",
    "    device = torch.device('cuda' if torch.cuda.is_available() else 'cpu')\n",
    "    model.to(device)\n",
    "    optimizer = torch.optim.AdamW(model.parameters(), lr=2e-5)\n",
    "    \n",
    "    # 학습 루프\n",
    "    model.train()\n",
    "    for epoch in range(3):  # 3 에폭 동안 학습\n",
    "        for batch in train_loader:\n",
    "            optimizer.zero_grad()\n",
    "            \n",
    "            input_ids = batch['input_ids'].to(device)\n",
    "            attention_mask = batch['attention_mask'].to(device)\n",
    "            labels = batch['label'].to(device)\n",
    "            \n",
    "            outputs = model(\n",
    "                input_ids=input_ids,\n",
    "                attention_mask=attention_mask,\n",
    "                labels=labels\n",
    "            )\n",
    "            \n",
    "            loss = outputs.loss\n",
    "            loss.backward()\n",
    "            optimizer.step()\n",
    "    \n",
    "    return model, tokenizer\n",
    "\n",
    "def classify_notes(text, model, tokenizer, device='cuda'):\n",
    "    \"\"\"\n",
    "    텍스트를 수업내용(0)과 공지사항(1)으로 분류\n",
    "    \"\"\"\n",
    "    model.eval()\n",
    "    encoding = tokenizer.encode_plus(\n",
    "        text,\n",
    "        add_special_tokens=True,\n",
    "        max_length=512,\n",
    "        return_token_type_ids=False,\n",
    "        padding='max_length',\n",
    "        truncation=True,\n",
    "        return_attention_mask=True,\n",
    "        return_tensors='pt'\n",
    "    )\n",
    "    \n",
    "    input_ids = encoding['input_ids'].to(device)\n",
    "    attention_mask = encoding['attention_mask'].to(device)\n",
    "    \n",
    "    with torch.no_grad():\n",
    "        outputs = model(\n",
    "            input_ids=input_ids,\n",
    "            attention_mask=attention_mask\n",
    "        )\n",
    "    \n",
    "    probabilities = torch.softmax(outputs.logits, dim=1)\n",
    "    prediction = torch.argmax(probabilities, dim=1).item()\n",
    "    \n",
    "    return {\n",
    "        'class': 'notice' if prediction == 1 else 'lecture',\n",
    "        'probability': probabilities[0][prediction].item()\n",
    "    }\n",
    "\n",
    "# 사용 예시\n",
    "\n"
   ]
  },
  {
   "cell_type": "code",
   "execution_count": null,
   "metadata": {},
   "outputs": [],
   "source": [
    "import openai\n",
    "from typing import Dict, List\n",
    "import os\n",
    "\n",
    "class LectureNoteClassifier:\n",
    "    def __init__(self, api_key: str):\n",
    "        \"\"\"\n",
    "        OpenAI API를 사용하여 텍스트를 수업 내용, 공지사항, 관련없는 내용으로 분류하는 클래스\n",
    "        \n",
    "        Args:\n",
    "            api_key (str): OpenAI API 키\n",
    "        \"\"\"\n",
    "        openai.api_key = api_key\n",
    "        \n",
    "        # 분류를 위한 프롬프트 템플릿\n",
    "        self.prompt_template = \"\"\"다음 텍스트를 아래 세 카테고리 중 하나로 분류해주세요:\n",
    "- lecture: 수업 내용 (예: 이론 설명, 개념 설명 등)\n",
    "- notice: 수업 관련 공지사항 (예: 시험 일정, 과제 제출, 휴강 공지 등)\n",
    "- unrelated: 수업과 관련없는 내용 (예: 개인적인 메모, 잡담, 다른 과목 내용 등)\n",
    "\n",
    "답변은 위의 세 단어 중 하나만 작성해주세요.\n",
    "\n",
    "텍스트: {text}\n",
    "\n",
    "분류:\"\"\"\n",
    "\n",
    "    def classify_line(self, text: str) -> Dict:\n",
    "        \"\"\"\n",
    "        한 줄의 텍스트를 분류합니다.\n",
    "        \n",
    "        Args:\n",
    "            text (str): 분류할 텍스트\n",
    "            \n",
    "        Returns:\n",
    "            Dict: 분류 결과와 신뢰도를 포함한 딕셔너리\n",
    "        \"\"\"\n",
    "        try:\n",
    "            response = openai.ChatCompletion.create(\n",
    "                model=\"gpt-4\",  # 또는 \"gpt-3.5-turbo\"\n",
    "                messages=[\n",
    "                    {\"role\": \"system\", \"content\": \"당신은 수업 노트를 수업 내용, 공지사항, 관련없는 내용으로 분류하는 도우미입니다.\"},\n",
    "                    {\"role\": \"user\", \"content\": self.prompt_template.format(text=text)}\n",
    "                ],\n",
    "                temperature=0.3\n",
    "            )\n",
    "            \n",
    "            # API 응답에서 분류 결과 추출\n",
    "            classification = response.choices[0].message.content.strip().lower()\n",
    "            \n",
    "            return {\n",
    "                'text': text,\n",
    "                'class': classification,\n",
    "                'probability': 1.0\n",
    "            }\n",
    "            \n",
    "        except Exception as e:\n",
    "            print(f\"Error during classification: {e}\")\n",
    "            return {\n",
    "                'text': text,\n",
    "                'class': 'unknown',\n",
    "                'probability': 0.0\n",
    "            }\n",
    "\n",
    "    def classify_notes(self, notes_text: str) -> Dict[str, List]:\n",
    "        \"\"\"\n",
    "        여러 줄의 텍스트를 분류합니다.\n",
    "        \n",
    "        Args:\n",
    "            notes_text (str): 분류할 전체 텍스트\n",
    "            \n",
    "        Returns:\n",
    "            Dict: 수업 내용, 공지사항, 관련없는 내용으로 분류된 결과\n",
    "        \"\"\"\n",
    "        # 줄바꿈을 기준으로 텍스트를 분리하고 빈 줄 제거\n",
    "        lines = [line.strip() for line in notes_text.split('\\n') if line.strip()]\n",
    "        \n",
    "        results = {\n",
    "            'lecture_content': [],\n",
    "            'notices': [],\n",
    "            'unrelated_content': []\n",
    "        }\n",
    "        \n",
    "        # 각 줄 분류\n",
    "        for line in lines:\n",
    "            classification = self.classify_line(line)\n",
    "            if classification['class'] == 'lecture':\n",
    "                results['lecture_content'].append({\n",
    "                    'text': line,\n",
    "                    'probability': classification['probability']\n",
    "                })\n",
    "            elif classification['class'] == 'notice':\n",
    "                results['notices'].append({\n",
    "                    'text': line,\n",
    "                    'probability': classification['probability']\n",
    "                })\n",
    "            elif classification['class'] == 'unrelated':\n",
    "                results['unrelated_content'].append({\n",
    "                    'text': line,\n",
    "                    'probability': classification['probability']\n",
    "                })\n",
    "        \n",
    "        return results\n",
    "\n",
    "# 사용 예시\n",
    "def main():\n",
    "    # OpenAI API 키 설정\n",
    "    api_key = \"your_openai_api_key_here\"  # 실제 API 키로 교체 필요\n",
    "    \n",
    "    # 분류기 초기화\n",
    "    classifier = LectureNoteClassifier(api_key)\n",
    "    \n",
    "    # 테스트용 노트\n",
    "    test_notes = \"\"\"오늘은 선형대수학의 기초를 배우겠습니다.\n",
    "행렬의 곱셈은 다음과 같이 정의됩니다.\n",
    "다음 주 퀴즈가 있으니 준비해주세요.\n",
    "점심 메뉴 추천: 학식 오늘 맛있대.\n",
    "벡터의 내적은 두 벡터의 성분끼리 곱한 것의 합입니다.\n",
    "과제는 이번 주 금요일까지 제출해주세요.\n",
    "오늘 날씨 진짜 덥다...\n",
    "행렬식의 기하학적 의미는 면적 또는 부피를 나타냅니다.\n",
    "저녁에 친구랑 약속 있음\"\"\"\n",
    "\n",
    "    # 노트 분류\n",
    "    results = classifier.classify_notes(test_notes)\n",
    "    \n",
    "    # 결과 출력\n",
    "    print(\"\\n=== 수업 내용 ===\")\n",
    "    for item in results['lecture_content']:\n",
    "        print(f\"• {item['text']}\")\n",
    "    \n",
    "    print(\"\\n=== 공지사항 ===\")\n",
    "    for item in results['notices']:\n",
    "        print(f\"• {item['text']}\")\n",
    "        \n",
    "    print(\"\\n=== 수업 무관 내용 ===\")\n",
    "    for item in results['unrelated_content']:\n",
    "        print(f\"• {item['text']}\")\n",
    "\n",
    "if __name__ == \"__main__\":\n",
    "    main()"
   ]
  },
  {
   "cell_type": "code",
   "execution_count": null,
   "metadata": {},
   "outputs": [],
   "source": [
    "\n",
    "# 학습 데이터 예시\n",
    "train_texts = [\n",
    "    \"다음 주 시험은 3장부터 5장까지입니다.\",  # 공지사항\n",
    "    \"오늘은 미분방정식의 기초에 대해 배우겠습니다.\",  # 수업내용\n",
    "    \"과제 제출 기한은 이번 주 금요일까지입니다.\",  # 공지사항\n",
    "    \"함수의 극한값을 구하는 방법은 다음과 같습니다.\"  # 수업내용\n",
    "]\n",
    "train_labels = [1, 0, 1, 0]  # 1: 공지사항, 0: 수업내용\n",
    "\n",
    "# 모델 학습\n",
    "model, tokenizer = train_classifier(train_texts, train_labels)\n",
    "\n",
    "# 새로운 텍스트 분류\n",
    "test_text = \"다음 주는 중간고사 기간이므로 수업이 없습니다.\"\n",
    "result = classify_notes(test_text, model, tokenizer)\n",
    "print(f\"분류 결과: {result['class']}, 확률: {result['probability']:.2f}\")"
   ]
  }
 ],
 "metadata": {
  "kernelspec": {
   "display_name": "edusmile",
   "language": "python",
   "name": "python3"
  },
  "language_info": {
   "codemirror_mode": {
    "name": "ipython",
    "version": 3
   },
   "file_extension": ".py",
   "mimetype": "text/x-python",
   "name": "python",
   "nbconvert_exporter": "python",
   "pygments_lexer": "ipython3",
   "version": "3.8.20"
  }
 },
 "nbformat": 4,
 "nbformat_minor": 2
}
