{
 "cells": [
  {
   "cell_type": "code",
   "execution_count": null,
   "metadata": {},
   "outputs": [],
   "source": [
    "path = ''"
   ]
  },
  {
   "cell_type": "markdown",
   "metadata": {},
   "source": [
    "# 환경설정"
   ]
  },
  {
   "cell_type": "code",
   "execution_count": 3,
   "metadata": {},
   "outputs": [],
   "source": [
    "#필요한 라이브러리 설치 및 불러우기\n",
    "import os\n",
    "import requests\n",
    "import xml.etree.ElementTree as ET\n",
    "import pandas as pd\n",
    "import matplotlib.pyplot as plt\n",
    "import openai\n",
    "from openai import OpenAI\n",
    "import json\n",
    "\n",
    "\n",
    "\n"
   ]
  },
  {
   "cell_type": "code",
   "execution_count": 4,
   "metadata": {},
   "outputs": [
    {
     "name": "stderr",
     "output_type": "stream",
     "text": [
      "c:\\Users\\User\\anaconda3\\envs\\edusmile\\lib\\site-packages\\tqdm\\auto.py:21: TqdmWarning: IProgress not found. Please update jupyter and ipywidgets. See https://ipywidgets.readthedocs.io/en/stable/user_install.html\n",
      "  from .autonotebook import tqdm as notebook_tqdm\n"
     ]
    }
   ],
   "source": [
    "import numpy as np\n",
    "import pandas as pd\n",
    "import matplotlib.pyplot as plt\n",
    "import seaborn as sns\n",
    "\n",
    "import torch\n",
    "\n",
    "from transformers import AutoTokenizer, AutoModelForSequenceClassification, Trainer, TrainingArguments, EarlyStoppingCallback\n",
    "from datasets import load_dataset, Dataset\n",
    "\n",
    "from sklearn.model_selection import train_test_split\n",
    "from sklearn.metrics import *\n",
    "\n",
    "from warnings import filterwarnings\n",
    "FutureWarning\n",
    "filterwarnings('ignore')"
   ]
  },
  {
   "cell_type": "markdown",
   "metadata": {},
   "source": [
    "## 환경 변수 설정 ( API KEY 설정)"
   ]
  },
  {
   "cell_type": "code",
   "execution_count": null,
   "metadata": {},
   "outputs": [],
   "source": [
    "def load_file(filepath):\n",
    "    with open(filepath, 'r') as file:\n",
    "        return file.readline().strip()\n",
    "\n",
    "# API 키 로드 및 환경변수 설정\n",
    "openai.api_key = load_file(path + 'api_key.txt')\n",
    "os.environ['OPENAI_API_KEY'] = openai.api_key"
   ]
  },
  {
   "cell_type": "code",
   "execution_count": null,
   "metadata": {},
   "outputs": [],
   "source": [
    "print(os.environ['OPENAI_API_KEY'])"
   ]
  },
  {
   "cell_type": "markdown",
   "metadata": {},
   "source": [
    "# 음성"
   ]
  },
  {
   "cell_type": "markdown",
   "metadata": {},
   "source": []
  },
  {
   "cell_type": "code",
   "execution_count": null,
   "metadata": {},
   "outputs": [],
   "source": []
  },
  {
   "cell_type": "markdown",
   "metadata": {},
   "source": [
    "# 텍스트"
   ]
  },
  {
   "cell_type": "code",
   "execution_count": null,
   "metadata": {},
   "outputs": [],
   "source": [
    "data = pd.read_csv(path + '/')\n",
    "data.head()"
   ]
  },
  {
   "cell_type": "markdown",
   "metadata": {},
   "source": [
    "#### 데이터 준비"
   ]
  },
  {
   "cell_type": "code",
   "execution_count": null,
   "metadata": {},
   "outputs": [],
   "source": [
    "# 데이터셋 분할\n",
    "train, val = train_test_split(data, test_size=0.2, random_state=42)\n",
    "# 텐서 데이터셋으로 변환\n",
    "train_ds = Dataset.from_pandas(train)\n",
    "val_ds = Dataset.from_pandas(val)"
   ]
  },
  {
   "cell_type": "markdown",
   "metadata": {},
   "source": [
    "#### (토큰화)"
   ]
  },
  {
   "cell_type": "code",
   "execution_count": null,
   "metadata": {},
   "outputs": [],
   "source": [
    "# 모델과 토크나이저 불러오기\n",
    "# 모델과 토크나이저 불러오기\n",
    "model_name = \"klue/bert-base\"\n",
    "tokenizer = AutoTokenizer.from_pretrained(model_name)"
   ]
  },
  {
   "cell_type": "code",
   "execution_count": null,
   "metadata": {},
   "outputs": [],
   "source": [
    "# 토큰화 함수 생성 및 작업\n",
    "def preprocess_function(data):\n",
    "    return tokenizer(data['text'], truncation=True, padding=True)\n",
    "\n",
    "train_ds = train_ds.map(preprocess_function, batched=True)\n",
    "val_ds = val_ds.map(preprocess_function, batched=True)"
   ]
  },
  {
   "cell_type": "markdown",
   "metadata": {},
   "source": [
    "#### 데이터 생성 (음성 추출)"
   ]
  },
  {
   "cell_type": "code",
   "execution_count": 25,
   "metadata": {},
   "outputs": [],
   "source": [
    "import requests\n",
    "import json\n",
    "from pytube import YouTube\n",
    "from pydub import AudioSegment\n",
    "\n",
    "# Step 1: 유튜브 오디오 다운로드\n",
    "def download_youtube_audio(video_url, output_path=\"audio/audio.wav\"):\n",
    "    # yt = YouTube(video_url)\n",
    "    yt = YouTube(video_url, use_oauth=True, allow_oauth_cache=True)\n",
    "\n",
    "    audio_stream = yt.streams.filter(only_audio=True).first()\n",
    "    temp_audio_path = \"audio/temp_audio.mp4\"\n",
    "    audio_stream.download(output_path=\"audio/\", filename=\"temp_audio.mp4\")\n",
    "    \n",
    "    # MP4 -> WAV 변환\n",
    "    audio = AudioSegment.from_file(temp_audio_path, format=\"mp4\")\n",
    "    audio.export(output_path, format=\"wav\")\n",
    "    print(\"오디오 다운로드 및 변환 완료!\")\n",
    "    return output_path\n",
    "\n",
    "# Step 2: 클로바 API를 사용한 음성 텍스트 변환\n",
    "def audio_to_text_clova(audio_path, api_url, client_id, client_secret):\n",
    "    headers = {\n",
    "        \"X-NCP-APIGW-API-KEY-ID\": client_id,\n",
    "        \"X-NCP-APIGW-API-KEY\": client_secret,\n",
    "        \"Content-Type\": \"application/octet-stream\"\n",
    "    }\n",
    "\n",
    "    with open(audio_path, \"rb\") as audio_file:\n",
    "        response = requests.post(api_url, headers=headers, data=audio_file)\n",
    "    \n",
    "    if response.status_code == 200:\n",
    "        result = response.json()\n",
    "        return result.get(\"text\", \"\")  # 변환된 텍스트 반환\n",
    "    else:\n",
    "        print(f\"오류 발생: {response.status_code}, {response.text}\")\n",
    "        return None\n",
    "\n",
    "# Step 3: 텍스트 저장\n",
    "def save_text_to_file(text, file_path):\n",
    "    with open(file_path, \"w\", encoding=\"utf-8\") as f:\n",
    "        f.write(text)\n",
    "    print(f\"텍스트가 {file_path}에 저장되었습니다!\")\n",
    "\n"
   ]
  },
  {
   "cell_type": "code",
   "execution_count": 52,
   "metadata": {},
   "outputs": [],
   "source": [
    "import os\n",
    "import yt_dlp\n",
    "\n",
    "def download_youtube_audio(video_url):\n",
    "    try:\n",
    "        # 지정된 절대 경로\n",
    "        output_path = r\"C:\\Users\\User\\Desktop\\eduSmile-master\\audio\"\n",
    "        \n",
    "        # 출력 디렉토리 생성\n",
    "        os.makedirs(output_path, exist_ok=True)\n",
    "        \n",
    "        ydl_opts = {\n",
    "            'format': 'bestaudio/best',\n",
    "            'postprocessors': [{\n",
    "                'key': 'FFmpegExtractAudio',\n",
    "                'preferredcodec': 'wav',\n",
    "            }],\n",
    "            'outtmpl': os.path.join(output_path, '%(title)s.%(ext)s'),\n",
    "            'ffmpeg_location': 'C:\\\\ffmpeg\\\\bin'  # ffmpeg 경로\n",
    "        }\n",
    "        \n",
    "        print(\"다운로드 시작...\")\n",
    "        with yt_dlp.YoutubeDL(ydl_opts) as ydl:\n",
    "            ydl.download([video_url])\n",
    "        print(f\"다운로드 완료! 저장 위치: {output_path}\")\n",
    "        \n",
    "    except Exception as e:\n",
    "        print(f\"Error: {str(e)}\")\n",
    "\n"
   ]
  },
  {
   "cell_type": "code",
   "execution_count": 55,
   "metadata": {},
   "outputs": [],
   "source": [
    "def process_youtube_urls():\n",
    "    \"\"\"\n",
    "    txt 파일에서 YouTube URL을 읽어서 오디오를 다운로드하는 함수\n",
    "    \"\"\"\n",
    "    # 파일 경로 설정\n",
    "    file_path = r\"C:\\Users\\User\\Desktop\\eduSmile-master\\.git\\datasets\\youtube_datasets_01.txt\"\n",
    "    output_path = r\"C:\\Users\\User\\Desktop\\eduSmile-master\\audio\"\n",
    "    \n",
    "    try:\n",
    "        # 파일 읽기\n",
    "        with open(file_path, 'r', encoding='utf-8') as file:\n",
    "            # https로 시작하는 URL만 필터링\n",
    "            urls = [line.strip() for line in file if line.strip().startswith('https')]\n",
    "        \n",
    "        print(f\"총 {len(urls)}개의 URL을 찾았습니다.\")\n",
    "        \n",
    "        # 각 URL에 대해 오디오 다운로드\n",
    "        for idx, url in enumerate(urls, 1):\n",
    "            print(f\"\\n[{idx}/{len(urls)}] URL 처리 중...\")\n",
    "            download_youtube_audio(url)\n",
    "            \n",
    "    except FileNotFoundError:\n",
    "        print(f\"Error: 파일을 찾을 수 없습니다: {file_path}\")\n",
    "    except Exception as e:\n",
    "        print(f\"Error: 파일 처리 중 오류가 발생했습니다: {str(e)}\")"
   ]
  },
  {
   "cell_type": "code",
   "execution_count": 56,
   "metadata": {},
   "outputs": [
    {
     "name": "stderr",
     "output_type": "stream",
     "text": [
      "Deprecated Feature: Support for Python version 3.8 has been deprecated. Please update to Python 3.9 or above\n"
     ]
    },
    {
     "name": "stdout",
     "output_type": "stream",
     "text": [
      "총 20개의 URL을 찾았습니다.\n",
      "\n",
      "[1/20] URL 처리 중...\n",
      "다운로드 시작...\n",
      "[youtube] Extracting URL: https://www.youtube.com/watch?v=zlaMDt04gXY\n",
      "[youtube] zlaMDt04gXY: Downloading webpage\n",
      "[youtube] zlaMDt04gXY: Downloading ios player API JSON\n",
      "[youtube] zlaMDt04gXY: Downloading mweb player API JSON\n"
     ]
    },
    {
     "name": "stderr",
     "output_type": "stream",
     "text": [
      "ERROR: [youtube] zlaMDt04gXY: Video unavailable\n",
      "Deprecated Feature: Support for Python version 3.8 has been deprecated. Please update to Python 3.9 or above\n"
     ]
    },
    {
     "name": "stdout",
     "output_type": "stream",
     "text": [
      "Error: ERROR: [youtube] zlaMDt04gXY: Video unavailable\n",
      "\n",
      "[2/20] URL 처리 중...\n",
      "다운로드 시작...\n",
      "[youtube] Extracting URL: https://www.youtube.com/watch?v=xBnq7xf2wt8\n",
      "[youtube] xBnq7xf2wt8: Downloading webpage\n",
      "[youtube] xBnq7xf2wt8: Downloading ios player API JSON\n",
      "[youtube] xBnq7xf2wt8: Downloading mweb player API JSON\n",
      "[youtube] xBnq7xf2wt8: Downloading player a5032d18\n"
     ]
    },
    {
     "name": "stderr",
     "output_type": "stream",
     "text": [
      "WARNING: [youtube] Falling back to generic n function search\n",
      "         player = https://www.youtube.com/s/player/a5032d18/player_ias.vflset/en_US/base.js\n",
      "WARNING: [youtube] xBnq7xf2wt8: nsig extraction failed: Some formats may be missing\n",
      "         n = WDsROWxyLpwasOWE ; player = https://www.youtube.com/s/player/a5032d18/player_ias.vflset/en_US/base.js\n",
      "WARNING: [youtube] Falling back to generic n function search\n",
      "         player = https://www.youtube.com/s/player/a5032d18/player_ias.vflset/en_US/base.js\n",
      "WARNING: [youtube] xBnq7xf2wt8: nsig extraction failed: Some formats may be missing\n",
      "         n = RJKVHZKVCvX-oGpA ; player = https://www.youtube.com/s/player/a5032d18/player_ias.vflset/en_US/base.js\n"
     ]
    },
    {
     "name": "stdout",
     "output_type": "stream",
     "text": [
      "[youtube] xBnq7xf2wt8: Downloading m3u8 information\n",
      "[info] xBnq7xf2wt8: Downloading 1 format(s): 251\n",
      "[download] Destination: C:\\Users\\User\\Desktop\\eduSmile-master\\audio\\수학기초 - 사칙연산편.webm\n",
      "[download] 100% of    7.45MiB in 00:00:01 at 5.89MiB/s   \n",
      "[ExtractAudio] Destination: C:\\Users\\User\\Desktop\\eduSmile-master\\audio\\수학기초 - 사칙연산편.wav\n",
      "Deleting original file C:\\Users\\User\\Desktop\\eduSmile-master\\audio\\수학기초 - 사칙연산편.webm (pass -k to keep)\n"
     ]
    },
    {
     "name": "stderr",
     "output_type": "stream",
     "text": [
      "Deprecated Feature: Support for Python version 3.8 has been deprecated. Please update to Python 3.9 or above\n"
     ]
    },
    {
     "name": "stdout",
     "output_type": "stream",
     "text": [
      "다운로드 완료! 저장 위치: C:\\Users\\User\\Desktop\\eduSmile-master\\audio\n",
      "\n",
      "[3/20] URL 처리 중...\n",
      "다운로드 시작...\n",
      "[youtube] Extracting URL: https://www.youtube.com/watch?v=5JvfVjb77fo\n",
      "[youtube] 5JvfVjb77fo: Downloading webpage\n",
      "[youtube] 5JvfVjb77fo: Downloading ios player API JSON\n",
      "[youtube] 5JvfVjb77fo: Downloading mweb player API JSON\n",
      "[youtube] 5JvfVjb77fo: Downloading player a5032d18\n"
     ]
    },
    {
     "name": "stderr",
     "output_type": "stream",
     "text": [
      "WARNING: [youtube] Falling back to generic n function search\n",
      "         player = https://www.youtube.com/s/player/a5032d18/player_ias.vflset/en_US/base.js\n",
      "WARNING: [youtube] 5JvfVjb77fo: nsig extraction failed: Some formats may be missing\n",
      "         n = yNVeMEDUUsDOF6Po ; player = https://www.youtube.com/s/player/a5032d18/player_ias.vflset/en_US/base.js\n",
      "WARNING: [youtube] Falling back to generic n function search\n",
      "         player = https://www.youtube.com/s/player/a5032d18/player_ias.vflset/en_US/base.js\n",
      "WARNING: [youtube] 5JvfVjb77fo: nsig extraction failed: Some formats may be missing\n",
      "         n = 3MRLuT2VLq_E23Wb ; player = https://www.youtube.com/s/player/a5032d18/player_ias.vflset/en_US/base.js\n"
     ]
    },
    {
     "name": "stdout",
     "output_type": "stream",
     "text": [
      "[youtube] 5JvfVjb77fo: Downloading m3u8 information\n",
      "[info] 5JvfVjb77fo: Downloading 1 format(s): 251\n",
      "[download] Destination: C:\\Users\\User\\Desktop\\eduSmile-master\\audio\\[수학史] 사칙연산(덧셈, 뺄셈,곱셈,나눗셈) 기호의 유래.webm\n",
      "[download] 100% of    7.03MiB in 00:00:03 at 1.89MiB/s   \n",
      "[ExtractAudio] Destination: C:\\Users\\User\\Desktop\\eduSmile-master\\audio\\[수학史] 사칙연산(덧셈, 뺄셈,곱셈,나눗셈) 기호의 유래.wav\n",
      "Deleting original file C:\\Users\\User\\Desktop\\eduSmile-master\\audio\\[수학史] 사칙연산(덧셈, 뺄셈,곱셈,나눗셈) 기호의 유래.webm (pass -k to keep)\n"
     ]
    },
    {
     "name": "stderr",
     "output_type": "stream",
     "text": [
      "Deprecated Feature: Support for Python version 3.8 has been deprecated. Please update to Python 3.9 or above\n"
     ]
    },
    {
     "name": "stdout",
     "output_type": "stream",
     "text": [
      "다운로드 완료! 저장 위치: C:\\Users\\User\\Desktop\\eduSmile-master\\audio\n",
      "\n",
      "[4/20] URL 처리 중...\n",
      "다운로드 시작...\n",
      "[youtube] Extracting URL: https://www.youtube.com/watch?v=Akwc62hbKeA\n",
      "[youtube] Akwc62hbKeA: Downloading webpage\n",
      "[youtube] Akwc62hbKeA: Downloading ios player API JSON\n",
      "[youtube] Akwc62hbKeA: Downloading mweb player API JSON\n"
     ]
    },
    {
     "name": "stderr",
     "output_type": "stream",
     "text": [
      "ERROR: [youtube] Akwc62hbKeA: Video unavailable\n",
      "Deprecated Feature: Support for Python version 3.8 has been deprecated. Please update to Python 3.9 or above\n"
     ]
    },
    {
     "name": "stdout",
     "output_type": "stream",
     "text": [
      "Error: ERROR: [youtube] Akwc62hbKeA: Video unavailable\n",
      "\n",
      "[5/20] URL 처리 중...\n",
      "다운로드 시작...\n",
      "[youtube] Extracting URL: https://www.youtube.com/watch?v=Ee7-havpnz8\n",
      "[youtube] Ee7-havpnz8: Downloading webpage\n",
      "[youtube] Ee7-havpnz8: Downloading ios player API JSON\n",
      "[youtube] Ee7-havpnz8: Downloading mweb player API JSON\n",
      "[youtube] Ee7-havpnz8: Downloading player a5032d18\n"
     ]
    },
    {
     "name": "stderr",
     "output_type": "stream",
     "text": [
      "WARNING: [youtube] Falling back to generic n function search\n",
      "         player = https://www.youtube.com/s/player/a5032d18/player_ias.vflset/en_US/base.js\n",
      "WARNING: [youtube] Ee7-havpnz8: nsig extraction failed: Some formats may be missing\n",
      "         n = MwhIab_2FroQTYUX ; player = https://www.youtube.com/s/player/a5032d18/player_ias.vflset/en_US/base.js\n",
      "WARNING: [youtube] Falling back to generic n function search\n",
      "         player = https://www.youtube.com/s/player/a5032d18/player_ias.vflset/en_US/base.js\n",
      "WARNING: [youtube] Ee7-havpnz8: nsig extraction failed: Some formats may be missing\n",
      "         n = 6v9uDqc2QpGYNJeF ; player = https://www.youtube.com/s/player/a5032d18/player_ias.vflset/en_US/base.js\n"
     ]
    },
    {
     "name": "stdout",
     "output_type": "stream",
     "text": [
      "[youtube] Ee7-havpnz8: Downloading m3u8 information\n",
      "[info] Ee7-havpnz8: Downloading 1 format(s): 251\n",
      "[download] Destination: C:\\Users\\User\\Desktop\\eduSmile-master\\audio\\수학의 기초 3. 사칙연산 _ 수학 포기하지 마세요 이 정도만 알면 되요..webm\n",
      "[download] 100% of    6.77MiB in 00:00:01 at 5.43MiB/s   \n",
      "[ExtractAudio] Destination: C:\\Users\\User\\Desktop\\eduSmile-master\\audio\\수학의 기초 3. 사칙연산 _ 수학 포기하지 마세요 이 정도만 알면 되요..wav\n",
      "Deleting original file C:\\Users\\User\\Desktop\\eduSmile-master\\audio\\수학의 기초 3. 사칙연산 _ 수학 포기하지 마세요 이 정도만 알면 되요..webm (pass -k to keep)\n"
     ]
    },
    {
     "name": "stderr",
     "output_type": "stream",
     "text": [
      "Deprecated Feature: Support for Python version 3.8 has been deprecated. Please update to Python 3.9 or above\n"
     ]
    },
    {
     "name": "stdout",
     "output_type": "stream",
     "text": [
      "다운로드 완료! 저장 위치: C:\\Users\\User\\Desktop\\eduSmile-master\\audio\n",
      "\n",
      "[6/20] URL 처리 중...\n",
      "다운로드 시작...\n",
      "[youtube:truncated_id] Extracting URL: https://www.youtube.com/watch?v=Ru9ctT3e5Y\n"
     ]
    },
    {
     "name": "stderr",
     "output_type": "stream",
     "text": [
      "ERROR: [youtube:truncated_id] Ru9ctT3e5Y: Incomplete YouTube ID Ru9ctT3e5Y. URL https://www.youtube.com/watch?v=Ru9ctT3e5Y looks truncated.\n",
      "Deprecated Feature: Support for Python version 3.8 has been deprecated. Please update to Python 3.9 or above\n"
     ]
    },
    {
     "name": "stdout",
     "output_type": "stream",
     "text": [
      "Error: ERROR: [youtube:truncated_id] Ru9ctT3e5Y: Incomplete YouTube ID Ru9ctT3e5Y. URL https://www.youtube.com/watch?v=Ru9ctT3e5Y looks truncated.\n",
      "\n",
      "[7/20] URL 처리 중...\n",
      "다운로드 시작...\n",
      "[youtube] Extracting URL: https://www.youtube.com/watch?v=nelEMSuczkM\n",
      "[youtube] nelEMSuczkM: Downloading webpage\n",
      "[youtube] nelEMSuczkM: Downloading ios player API JSON\n",
      "[youtube] nelEMSuczkM: Downloading mweb player API JSON\n"
     ]
    },
    {
     "name": "stderr",
     "output_type": "stream",
     "text": [
      "ERROR: [youtube] nelEMSuczkM: Video unavailable\n",
      "Deprecated Feature: Support for Python version 3.8 has been deprecated. Please update to Python 3.9 or above\n"
     ]
    },
    {
     "name": "stdout",
     "output_type": "stream",
     "text": [
      "Error: ERROR: [youtube] nelEMSuczkM: Video unavailable\n",
      "\n",
      "[8/20] URL 처리 중...\n",
      "다운로드 시작...\n",
      "[youtube] Extracting URL: https://www.youtube.com/watch?v=wCs-Ym-W9Pc\n",
      "[youtube] wCs-Ym-W9Pc: Downloading webpage\n",
      "[youtube] wCs-Ym-W9Pc: Downloading ios player API JSON\n",
      "[youtube] wCs-Ym-W9Pc: Downloading mweb player API JSON\n",
      "[youtube] wCs-Ym-W9Pc: Downloading player a5032d18\n"
     ]
    },
    {
     "name": "stderr",
     "output_type": "stream",
     "text": [
      "WARNING: [youtube] Falling back to generic n function search\n",
      "         player = https://www.youtube.com/s/player/a5032d18/player_ias.vflset/en_US/base.js\n",
      "WARNING: [youtube] wCs-Ym-W9Pc: nsig extraction failed: Some formats may be missing\n",
      "         n = k_muVbhTYaPoxY2S ; player = https://www.youtube.com/s/player/a5032d18/player_ias.vflset/en_US/base.js\n",
      "WARNING: [youtube] Falling back to generic n function search\n",
      "         player = https://www.youtube.com/s/player/a5032d18/player_ias.vflset/en_US/base.js\n",
      "WARNING: [youtube] wCs-Ym-W9Pc: nsig extraction failed: Some formats may be missing\n",
      "         n = RlsqZQsMQ_hJ70Or ; player = https://www.youtube.com/s/player/a5032d18/player_ias.vflset/en_US/base.js\n"
     ]
    },
    {
     "name": "stdout",
     "output_type": "stream",
     "text": [
      "[youtube] wCs-Ym-W9Pc: Downloading m3u8 information\n",
      "[info] wCs-Ym-W9Pc: Downloading 1 format(s): 251\n",
      "[download] Destination: C:\\Users\\User\\Desktop\\eduSmile-master\\audio\\[8차시] 정수와 유리수의 사칙연산.webm\n",
      "[download] 100% of    4.49MiB in 00:00:02 at 2.06MiB/s   \n",
      "[ExtractAudio] Destination: C:\\Users\\User\\Desktop\\eduSmile-master\\audio\\[8차시] 정수와 유리수의 사칙연산.wav\n",
      "Deleting original file C:\\Users\\User\\Desktop\\eduSmile-master\\audio\\[8차시] 정수와 유리수의 사칙연산.webm (pass -k to keep)\n"
     ]
    },
    {
     "name": "stderr",
     "output_type": "stream",
     "text": [
      "Deprecated Feature: Support for Python version 3.8 has been deprecated. Please update to Python 3.9 or above\n"
     ]
    },
    {
     "name": "stdout",
     "output_type": "stream",
     "text": [
      "다운로드 완료! 저장 위치: C:\\Users\\User\\Desktop\\eduSmile-master\\audio\n",
      "\n",
      "[9/20] URL 처리 중...\n",
      "다운로드 시작...\n",
      "[youtube] Extracting URL: https://www.youtube.com/watch?v=pdTjdvsnuJ0\n",
      "[youtube] pdTjdvsnuJ0: Downloading webpage\n",
      "[youtube] pdTjdvsnuJ0: Downloading ios player API JSON\n",
      "[youtube] pdTjdvsnuJ0: Downloading mweb player API JSON\n",
      "[youtube] pdTjdvsnuJ0: Downloading player a5032d18\n"
     ]
    },
    {
     "name": "stderr",
     "output_type": "stream",
     "text": [
      "WARNING: [youtube] Falling back to generic n function search\n",
      "         player = https://www.youtube.com/s/player/a5032d18/player_ias.vflset/en_US/base.js\n",
      "WARNING: [youtube] pdTjdvsnuJ0: nsig extraction failed: Some formats may be missing\n",
      "         n = 7V6HApkII1QXnJAE ; player = https://www.youtube.com/s/player/a5032d18/player_ias.vflset/en_US/base.js\n",
      "WARNING: [youtube] Falling back to generic n function search\n",
      "         player = https://www.youtube.com/s/player/a5032d18/player_ias.vflset/en_US/base.js\n",
      "WARNING: [youtube] pdTjdvsnuJ0: nsig extraction failed: Some formats may be missing\n",
      "         n = VErAYgICRBm8hmSF ; player = https://www.youtube.com/s/player/a5032d18/player_ias.vflset/en_US/base.js\n"
     ]
    },
    {
     "name": "stdout",
     "output_type": "stream",
     "text": [
      "[youtube] pdTjdvsnuJ0: Downloading m3u8 information\n",
      "[info] pdTjdvsnuJ0: Downloading 1 format(s): 251\n",
      "[download] Destination: C:\\Users\\User\\Desktop\\eduSmile-master\\audio\\자연수와 사칙연산.webm\n",
      "[download] 100% of   10.58MiB in 00:00:02 at 4.60MiB/s   \n",
      "[ExtractAudio] Destination: C:\\Users\\User\\Desktop\\eduSmile-master\\audio\\자연수와 사칙연산.wav\n",
      "Deleting original file C:\\Users\\User\\Desktop\\eduSmile-master\\audio\\자연수와 사칙연산.webm (pass -k to keep)\n"
     ]
    },
    {
     "name": "stderr",
     "output_type": "stream",
     "text": [
      "Deprecated Feature: Support for Python version 3.8 has been deprecated. Please update to Python 3.9 or above\n"
     ]
    },
    {
     "name": "stdout",
     "output_type": "stream",
     "text": [
      "다운로드 완료! 저장 위치: C:\\Users\\User\\Desktop\\eduSmile-master\\audio\n",
      "\n",
      "[10/20] URL 처리 중...\n",
      "다운로드 시작...\n",
      "[youtube] Extracting URL: https://www.youtube.com/watch?v=6PhnsFlvdqY\n",
      "[youtube] 6PhnsFlvdqY: Downloading webpage\n",
      "[youtube] 6PhnsFlvdqY: Downloading ios player API JSON\n",
      "[youtube] 6PhnsFlvdqY: Downloading mweb player API JSON\n"
     ]
    },
    {
     "name": "stderr",
     "output_type": "stream",
     "text": [
      "ERROR: [youtube] 6PhnsFlvdqY: Video unavailable\n",
      "Deprecated Feature: Support for Python version 3.8 has been deprecated. Please update to Python 3.9 or above\n"
     ]
    },
    {
     "name": "stdout",
     "output_type": "stream",
     "text": [
      "Error: ERROR: [youtube] 6PhnsFlvdqY: Video unavailable\n",
      "\n",
      "[11/20] URL 처리 중...\n",
      "다운로드 시작...\n",
      "[youtube] Extracting URL: https://www.youtube.com/watch?v=T5A6oLjbigg\n",
      "[youtube] T5A6oLjbigg: Downloading webpage\n",
      "[youtube] T5A6oLjbigg: Downloading ios player API JSON\n",
      "[youtube] T5A6oLjbigg: Downloading mweb player API JSON\n"
     ]
    },
    {
     "name": "stderr",
     "output_type": "stream",
     "text": [
      "ERROR: [youtube] T5A6oLjbigg: Video unavailable\n",
      "Deprecated Feature: Support for Python version 3.8 has been deprecated. Please update to Python 3.9 or above\n"
     ]
    },
    {
     "name": "stdout",
     "output_type": "stream",
     "text": [
      "Error: ERROR: [youtube] T5A6oLjbigg: Video unavailable\n",
      "\n",
      "[12/20] URL 처리 중...\n",
      "다운로드 시작...\n",
      "[youtube] Extracting URL: https://www.youtube.com/watch?v=9N3cXaBzwbs&pp=ygUM7IKs7LmZ7Jew7IKw\n",
      "[youtube] 9N3cXaBzwbs: Downloading webpage\n",
      "[youtube] 9N3cXaBzwbs: Downloading ios player API JSON\n",
      "[youtube] 9N3cXaBzwbs: Downloading mweb player API JSON\n",
      "[youtube] 9N3cXaBzwbs: Downloading player a5032d18\n"
     ]
    },
    {
     "name": "stderr",
     "output_type": "stream",
     "text": [
      "WARNING: [youtube] Falling back to generic n function search\n",
      "         player = https://www.youtube.com/s/player/a5032d18/player_ias.vflset/en_US/base.js\n",
      "WARNING: [youtube] 9N3cXaBzwbs: nsig extraction failed: Some formats may be missing\n",
      "         n = SPbxm9gN4-KBaKMh ; player = https://www.youtube.com/s/player/a5032d18/player_ias.vflset/en_US/base.js\n",
      "WARNING: [youtube] Falling back to generic n function search\n",
      "         player = https://www.youtube.com/s/player/a5032d18/player_ias.vflset/en_US/base.js\n",
      "WARNING: [youtube] 9N3cXaBzwbs: nsig extraction failed: Some formats may be missing\n",
      "         n = zXherwXrufEFxZku ; player = https://www.youtube.com/s/player/a5032d18/player_ias.vflset/en_US/base.js\n"
     ]
    },
    {
     "name": "stdout",
     "output_type": "stream",
     "text": [
      "[youtube] 9N3cXaBzwbs: Downloading m3u8 information\n",
      "[info] 9N3cXaBzwbs: Downloading 1 format(s): 251\n",
      "[download] Destination: C:\\Users\\User\\Desktop\\eduSmile-master\\audio\\수포자수학_정수의 사칙 연산.webm\n",
      "[download] 100% of   11.42MiB in 00:00:02 at 4.09MiB/s   \n",
      "[ExtractAudio] Destination: C:\\Users\\User\\Desktop\\eduSmile-master\\audio\\수포자수학_정수의 사칙 연산.wav\n",
      "Deleting original file C:\\Users\\User\\Desktop\\eduSmile-master\\audio\\수포자수학_정수의 사칙 연산.webm (pass -k to keep)\n"
     ]
    },
    {
     "name": "stderr",
     "output_type": "stream",
     "text": [
      "Deprecated Feature: Support for Python version 3.8 has been deprecated. Please update to Python 3.9 or above\n"
     ]
    },
    {
     "name": "stdout",
     "output_type": "stream",
     "text": [
      "다운로드 완료! 저장 위치: C:\\Users\\User\\Desktop\\eduSmile-master\\audio\n",
      "\n",
      "[13/20] URL 처리 중...\n",
      "다운로드 시작...\n",
      "[youtube] Extracting URL: https://www.youtube.com/watch?v=c7aBl6E9R6U\n",
      "[youtube] c7aBl6E9R6U: Downloading webpage\n",
      "[youtube] c7aBl6E9R6U: Downloading ios player API JSON\n",
      "[youtube] c7aBl6E9R6U: Downloading mweb player API JSON\n"
     ]
    },
    {
     "name": "stderr",
     "output_type": "stream",
     "text": [
      "ERROR: [youtube] c7aBl6E9R6U: Video unavailable\n",
      "Deprecated Feature: Support for Python version 3.8 has been deprecated. Please update to Python 3.9 or above\n"
     ]
    },
    {
     "name": "stdout",
     "output_type": "stream",
     "text": [
      "Error: ERROR: [youtube] c7aBl6E9R6U: Video unavailable\n",
      "\n",
      "[14/20] URL 처리 중...\n",
      "다운로드 시작...\n",
      "[youtube] Extracting URL: https://www.youtube.com/watch?v=z3y1C14lQ3I&pp=ygUM7IKs7LmZ7Jew7IKw\n",
      "[youtube] z3y1C14lQ3I: Downloading webpage\n",
      "[youtube] z3y1C14lQ3I: Downloading ios player API JSON\n",
      "[youtube] z3y1C14lQ3I: Downloading mweb player API JSON\n",
      "[youtube] z3y1C14lQ3I: Downloading player a5032d18\n"
     ]
    },
    {
     "name": "stderr",
     "output_type": "stream",
     "text": [
      "WARNING: [youtube] Falling back to generic n function search\n",
      "         player = https://www.youtube.com/s/player/a5032d18/player_ias.vflset/en_US/base.js\n",
      "WARNING: [youtube] z3y1C14lQ3I: nsig extraction failed: Some formats may be missing\n",
      "         n = c0wB8PUUu1ftOL4D ; player = https://www.youtube.com/s/player/a5032d18/player_ias.vflset/en_US/base.js\n",
      "WARNING: [youtube] Falling back to generic n function search\n",
      "         player = https://www.youtube.com/s/player/a5032d18/player_ias.vflset/en_US/base.js\n",
      "WARNING: [youtube] z3y1C14lQ3I: nsig extraction failed: Some formats may be missing\n",
      "         n = L7D5WwJYu9BCkUUX ; player = https://www.youtube.com/s/player/a5032d18/player_ias.vflset/en_US/base.js\n"
     ]
    },
    {
     "name": "stdout",
     "output_type": "stream",
     "text": [
      "[youtube] z3y1C14lQ3I: Downloading m3u8 information\n",
      "[info] z3y1C14lQ3I: Downloading 1 format(s): 251\n",
      "[download] Destination: C:\\Users\\User\\Desktop\\eduSmile-master\\audio\\1.2 정수와 유리수 (4) 사칙연산 Part1 덧셈편1 ｜ 중1수학 1학기.webm\n",
      "[download] 100% of   10.84MiB in 00:00:06 at 1.74MiB/s     \n",
      "[ExtractAudio] Destination: C:\\Users\\User\\Desktop\\eduSmile-master\\audio\\1.2 정수와 유리수 (4) 사칙연산 Part1 덧셈편1 ｜ 중1수학 1학기.wav\n",
      "Deleting original file C:\\Users\\User\\Desktop\\eduSmile-master\\audio\\1.2 정수와 유리수 (4) 사칙연산 Part1 덧셈편1 ｜ 중1수학 1학기.webm (pass -k to keep)\n"
     ]
    },
    {
     "name": "stderr",
     "output_type": "stream",
     "text": [
      "Deprecated Feature: Support for Python version 3.8 has been deprecated. Please update to Python 3.9 or above\n"
     ]
    },
    {
     "name": "stdout",
     "output_type": "stream",
     "text": [
      "다운로드 완료! 저장 위치: C:\\Users\\User\\Desktop\\eduSmile-master\\audio\n",
      "\n",
      "[15/20] URL 처리 중...\n",
      "다운로드 시작...\n",
      "[youtube] Extracting URL: https://www.youtube.com/watch?v=aTln2E15erM\n",
      "[youtube] aTln2E15erM: Downloading webpage\n",
      "[youtube] aTln2E15erM: Downloading ios player API JSON\n",
      "[youtube] aTln2E15erM: Downloading mweb player API JSON\n",
      "[youtube] aTln2E15erM: Downloading player a5032d18\n"
     ]
    },
    {
     "name": "stderr",
     "output_type": "stream",
     "text": [
      "WARNING: [youtube] Falling back to generic n function search\n",
      "         player = https://www.youtube.com/s/player/a5032d18/player_ias.vflset/en_US/base.js\n",
      "WARNING: [youtube] aTln2E15erM: nsig extraction failed: Some formats may be missing\n",
      "         n = 4P33_ANELCadw-Rn ; player = https://www.youtube.com/s/player/a5032d18/player_ias.vflset/en_US/base.js\n",
      "WARNING: [youtube] Falling back to generic n function search\n",
      "         player = https://www.youtube.com/s/player/a5032d18/player_ias.vflset/en_US/base.js\n",
      "WARNING: [youtube] aTln2E15erM: nsig extraction failed: Some formats may be missing\n",
      "         n = 9JuV96OarGTyZ9Jm ; player = https://www.youtube.com/s/player/a5032d18/player_ias.vflset/en_US/base.js\n"
     ]
    },
    {
     "name": "stdout",
     "output_type": "stream",
     "text": [
      "[youtube] aTln2E15erM: Downloading m3u8 information\n",
      "[info] aTln2E15erM: Downloading 1 format(s): 140\n",
      "[download] Destination: C:\\Users\\User\\Desktop\\eduSmile-master\\audio\\Simplemaths의 수학 강의 - 방정식 - 음수의 사칙 연산 -2편-.m4a\n",
      "[download] 100% of    9.37MiB in 00:00:01 at 6.78MiB/s   \n",
      "[FixupM4a] Correcting container of \"C:\\Users\\User\\Desktop\\eduSmile-master\\audio\\Simplemaths의 수학 강의 - 방정식 - 음수의 사칙 연산 -2편-.m4a\"\n",
      "[ExtractAudio] Destination: C:\\Users\\User\\Desktop\\eduSmile-master\\audio\\Simplemaths의 수학 강의 - 방정식 - 음수의 사칙 연산 -2편-.wav\n",
      "Deleting original file C:\\Users\\User\\Desktop\\eduSmile-master\\audio\\Simplemaths의 수학 강의 - 방정식 - 음수의 사칙 연산 -2편-.m4a (pass -k to keep)\n"
     ]
    },
    {
     "name": "stderr",
     "output_type": "stream",
     "text": [
      "Deprecated Feature: Support for Python version 3.8 has been deprecated. Please update to Python 3.9 or above\n"
     ]
    },
    {
     "name": "stdout",
     "output_type": "stream",
     "text": [
      "다운로드 완료! 저장 위치: C:\\Users\\User\\Desktop\\eduSmile-master\\audio\n",
      "\n",
      "[16/20] URL 처리 중...\n",
      "다운로드 시작...\n",
      "[youtube] Extracting URL: https://www.youtube.com/watch?v=Nml5CyrflUs\n",
      "[youtube] Nml5CyrflUs: Downloading webpage\n",
      "[youtube] Nml5CyrflUs: Downloading ios player API JSON\n",
      "[youtube] Nml5CyrflUs: Downloading mweb player API JSON\n"
     ]
    },
    {
     "name": "stderr",
     "output_type": "stream",
     "text": [
      "ERROR: [youtube] Nml5CyrflUs: Video unavailable\n",
      "Deprecated Feature: Support for Python version 3.8 has been deprecated. Please update to Python 3.9 or above\n"
     ]
    },
    {
     "name": "stdout",
     "output_type": "stream",
     "text": [
      "Error: ERROR: [youtube] Nml5CyrflUs: Video unavailable\n",
      "\n",
      "[17/20] URL 처리 중...\n",
      "다운로드 시작...\n",
      "[youtube] Extracting URL: https://www.youtube.com/watch?v=-suRQmfPjTc\n",
      "[youtube] -suRQmfPjTc: Downloading webpage\n",
      "[youtube] -suRQmfPjTc: Downloading ios player API JSON\n",
      "[youtube] -suRQmfPjTc: Downloading mweb player API JSON\n",
      "[youtube] -suRQmfPjTc: Downloading player a5032d18\n"
     ]
    },
    {
     "name": "stderr",
     "output_type": "stream",
     "text": [
      "WARNING: [youtube] Falling back to generic n function search\n",
      "         player = https://www.youtube.com/s/player/a5032d18/player_ias.vflset/en_US/base.js\n",
      "WARNING: [youtube] -suRQmfPjTc: nsig extraction failed: Some formats may be missing\n",
      "         n = GreTYG2dffbhuMBk ; player = https://www.youtube.com/s/player/a5032d18/player_ias.vflset/en_US/base.js\n",
      "WARNING: [youtube] Falling back to generic n function search\n",
      "         player = https://www.youtube.com/s/player/a5032d18/player_ias.vflset/en_US/base.js\n",
      "WARNING: [youtube] -suRQmfPjTc: nsig extraction failed: Some formats may be missing\n",
      "         n = 4zHVLkAVOUTxwXWA ; player = https://www.youtube.com/s/player/a5032d18/player_ias.vflset/en_US/base.js\n"
     ]
    },
    {
     "name": "stdout",
     "output_type": "stream",
     "text": [
      "[youtube] -suRQmfPjTc: Downloading m3u8 information\n",
      "[info] -suRQmfPjTc: Downloading 1 format(s): 251\n",
      "[download] Destination: C:\\Users\\User\\Desktop\\eduSmile-master\\audio\\[수학] 중학교 1학년 유리수의 사칙연산.webm\n",
      "[download] 100% of    7.18MiB in 00:00:01 at 5.07MiB/s   \n",
      "[ExtractAudio] Destination: C:\\Users\\User\\Desktop\\eduSmile-master\\audio\\[수학] 중학교 1학년 유리수의 사칙연산.wav\n",
      "Deleting original file C:\\Users\\User\\Desktop\\eduSmile-master\\audio\\[수학] 중학교 1학년 유리수의 사칙연산.webm (pass -k to keep)\n"
     ]
    },
    {
     "name": "stderr",
     "output_type": "stream",
     "text": [
      "Deprecated Feature: Support for Python version 3.8 has been deprecated. Please update to Python 3.9 or above\n"
     ]
    },
    {
     "name": "stdout",
     "output_type": "stream",
     "text": [
      "다운로드 완료! 저장 위치: C:\\Users\\User\\Desktop\\eduSmile-master\\audio\n",
      "\n",
      "[18/20] URL 처리 중...\n",
      "다운로드 시작...\n",
      "[youtube] Extracting URL: https://www.youtube.com/watch?v=zsTtzypC0yo\n",
      "[youtube] zsTtzypC0yo: Downloading webpage\n",
      "[youtube] zsTtzypC0yo: Downloading ios player API JSON\n",
      "[youtube] zsTtzypC0yo: Downloading mweb player API JSON\n"
     ]
    },
    {
     "name": "stderr",
     "output_type": "stream",
     "text": [
      "ERROR: [youtube] zsTtzypC0yo: Video unavailable\n",
      "Deprecated Feature: Support for Python version 3.8 has been deprecated. Please update to Python 3.9 or above\n"
     ]
    },
    {
     "name": "stdout",
     "output_type": "stream",
     "text": [
      "Error: ERROR: [youtube] zsTtzypC0yo: Video unavailable\n",
      "\n",
      "[19/20] URL 처리 중...\n",
      "다운로드 시작...\n",
      "[youtube] Extracting URL: https://www.youtube.com/watch?v=E7YyNgT-qaY\n",
      "[youtube] E7YyNgT-qaY: Downloading webpage\n",
      "[youtube] E7YyNgT-qaY: Downloading ios player API JSON\n",
      "[youtube] E7YyNgT-qaY: Downloading mweb player API JSON\n",
      "[youtube] E7YyNgT-qaY: Downloading player a5032d18\n"
     ]
    },
    {
     "name": "stderr",
     "output_type": "stream",
     "text": [
      "WARNING: [youtube] Falling back to generic n function search\n",
      "         player = https://www.youtube.com/s/player/a5032d18/player_ias.vflset/en_US/base.js\n",
      "WARNING: [youtube] E7YyNgT-qaY: nsig extraction failed: Some formats may be missing\n",
      "         n = OS5182pPhKk-ylrb ; player = https://www.youtube.com/s/player/a5032d18/player_ias.vflset/en_US/base.js\n",
      "WARNING: [youtube] Falling back to generic n function search\n",
      "         player = https://www.youtube.com/s/player/a5032d18/player_ias.vflset/en_US/base.js\n",
      "WARNING: [youtube] E7YyNgT-qaY: nsig extraction failed: Some formats may be missing\n",
      "         n = m3Paw_TWZ15e2QKV ; player = https://www.youtube.com/s/player/a5032d18/player_ias.vflset/en_US/base.js\n"
     ]
    },
    {
     "name": "stdout",
     "output_type": "stream",
     "text": [
      "[youtube] E7YyNgT-qaY: Downloading m3u8 information\n",
      "[info] E7YyNgT-qaY: Downloading 1 format(s): 251\n",
      "[download] Destination: C:\\Users\\User\\Desktop\\eduSmile-master\\audio\\정수 사칙연산.webm\n",
      "[download] 100% of    7.99MiB in 00:00:02 at 3.45MiB/s   \n",
      "[ExtractAudio] Destination: C:\\Users\\User\\Desktop\\eduSmile-master\\audio\\정수 사칙연산.wav\n",
      "Deleting original file C:\\Users\\User\\Desktop\\eduSmile-master\\audio\\정수 사칙연산.webm (pass -k to keep)\n"
     ]
    },
    {
     "name": "stderr",
     "output_type": "stream",
     "text": [
      "Deprecated Feature: Support for Python version 3.8 has been deprecated. Please update to Python 3.9 or above\n"
     ]
    },
    {
     "name": "stdout",
     "output_type": "stream",
     "text": [
      "다운로드 완료! 저장 위치: C:\\Users\\User\\Desktop\\eduSmile-master\\audio\n",
      "\n",
      "[20/20] URL 처리 중...\n",
      "다운로드 시작...\n",
      "[youtube] Extracting URL: https://www.youtube.com/watch?v=GnaQolCOvZw\n",
      "[youtube] GnaQolCOvZw: Downloading webpage\n",
      "[youtube] GnaQolCOvZw: Downloading ios player API JSON\n",
      "[youtube] GnaQolCOvZw: Downloading mweb player API JSON\n"
     ]
    },
    {
     "name": "stderr",
     "output_type": "stream",
     "text": [
      "ERROR: [youtube] GnaQolCOvZw: Video unavailable\n"
     ]
    },
    {
     "name": "stdout",
     "output_type": "stream",
     "text": [
      "Error: ERROR: [youtube] GnaQolCOvZw: Video unavailable\n"
     ]
    }
   ],
   "source": [
    "process_youtube_urls()"
   ]
  },
  {
   "cell_type": "markdown",
   "metadata": {},
   "source": [
    "#### 음성에서 텍스트로 변환"
   ]
  },
  {
   "cell_type": "markdown",
   "metadata": {},
   "source": [
    "#### Whisper |"
   ]
  },
  {
   "cell_type": "code",
   "execution_count": 5,
   "metadata": {},
   "outputs": [],
   "source": [
    "path = r'C:/Users/User/Desktop/eduSmile-master/'"
   ]
  },
  {
   "cell_type": "code",
   "execution_count": 10,
   "metadata": {},
   "outputs": [],
   "source": [
    "def load_file(filepath):\n",
    "    with open(filepath, 'r') as file:\n",
    "        return file.readline().strip()\n",
    "\n",
    "# API 키 로드 및 환경변수 설정\n",
    "openai.api_key = load_file(path + 'api_key.txt')\n",
    "os.environ['OPENAI_API_KEY'] = openai.api_key"
   ]
  },
  {
   "cell_type": "code",
   "execution_count": 7,
   "metadata": {},
   "outputs": [],
   "source": [
    "client = OpenAI()"
   ]
  },
  {
   "cell_type": "code",
   "execution_count": 24,
   "metadata": {},
   "outputs": [],
   "source": [
    "audio_path = 'C:/Users/User/Desktop/eduSmile-master/audio/'  # 원본 오디오 파일이 저장된 폴더\n",
    "chunk_path = 'C:/Users/User/Desktop/eduSmile-master/chunks/'  # 청크 파일 저장 폴더\n",
    "output_path = 'C:/Users/User/Desktop/eduSmile-master/speech2text/'  # 변환된 텍스트 저장 폴더"
   ]
  },
  {
   "cell_type": "code",
   "execution_count": 26,
   "metadata": {},
   "outputs": [
    {
     "name": "stdout",
     "output_type": "stream",
     "text": [
      "Processing file: C:/Users/User/Desktop/eduSmile-master/audio/0.wav\n",
      "Transcription saved to: C:/Users/User/Desktop/eduSmile-master/speech2text/0_transcription.txt\n",
      "Processing file: C:/Users/User/Desktop/eduSmile-master/audio/1.wav\n",
      "Transcription saved to: C:/Users/User/Desktop/eduSmile-master/speech2text/1_transcription.txt\n",
      "Processing file: C:/Users/User/Desktop/eduSmile-master/audio/10.wav\n",
      "Transcription saved to: C:/Users/User/Desktop/eduSmile-master/speech2text/10_transcription.txt\n",
      "Processing file: C:/Users/User/Desktop/eduSmile-master/audio/2.wav\n",
      "Transcription saved to: C:/Users/User/Desktop/eduSmile-master/speech2text/2_transcription.txt\n",
      "Processing file: C:/Users/User/Desktop/eduSmile-master/audio/3.wav\n",
      "Transcription saved to: C:/Users/User/Desktop/eduSmile-master/speech2text/3_transcription.txt\n",
      "Processing file: C:/Users/User/Desktop/eduSmile-master/audio/4.wav\n",
      "Transcription saved to: C:/Users/User/Desktop/eduSmile-master/speech2text/4_transcription.txt\n",
      "Processing file: C:/Users/User/Desktop/eduSmile-master/audio/5.wav\n",
      "Transcription saved to: C:/Users/User/Desktop/eduSmile-master/speech2text/5_transcription.txt\n",
      "Processing file: C:/Users/User/Desktop/eduSmile-master/audio/6.wav\n",
      "Transcription saved to: C:/Users/User/Desktop/eduSmile-master/speech2text/6_transcription.txt\n",
      "Processing file: C:/Users/User/Desktop/eduSmile-master/audio/7.wav\n",
      "Transcription saved to: C:/Users/User/Desktop/eduSmile-master/speech2text/7_transcription.txt\n",
      "Processing file: C:/Users/User/Desktop/eduSmile-master/audio/8.wav\n",
      "Transcription saved to: C:/Users/User/Desktop/eduSmile-master/speech2text/8_transcription.txt\n",
      "Processing file: C:/Users/User/Desktop/eduSmile-master/audio/9.wav\n",
      "Transcription saved to: C:/Users/User/Desktop/eduSmile-master/speech2text/9_transcription.txt\n"
     ]
    }
   ],
   "source": [
    "import os\n",
    "from pydub import AudioSegment\n",
    "from openai import OpenAI\n",
    "\n",
    "# OpenAI 클라이언트 초기화\n",
    "client = OpenAI(api_key=os.environ.get(\"OPENAI_API_KEY\"))\n",
    "\n",
    "\n",
    "# 폴더 생성 함수\n",
    "def create_folder(folder_path):\n",
    "    if not os.path.exists(folder_path):\n",
    "        os.makedirs(folder_path)\n",
    "\n",
    "# 필요한 폴더 생성\n",
    "create_folder(chunk_path)\n",
    "create_folder(output_path)\n",
    "\n",
    "# 청크로 나누기\n",
    "def split_audio(file_path, chunk_length_ms=10000):\n",
    "    audio = AudioSegment.from_file(file_path)\n",
    "    file_name = os.path.splitext(os.path.basename(file_path))[0]\n",
    "    chunks = [audio[i:i + chunk_length_ms] for i in range(0, len(audio), chunk_length_ms)]\n",
    "\n",
    "    chunk_files = []\n",
    "    for idx, chunk in enumerate(chunks):\n",
    "        chunk_file = os.path.join(chunk_path, f\"{file_name}_chunk_{idx}.wav\")\n",
    "        chunk.export(chunk_file, format=\"wav\")\n",
    "        chunk_files.append(chunk_file)\n",
    "\n",
    "    return chunk_files\n",
    "\n",
    "# 텍스트로 변환\n",
    "def transcribe_audio(chunk_files):\n",
    "    transcript_list = []\n",
    "    for chunk_file in chunk_files:\n",
    "        with open(chunk_file, \"rb\") as audio_file:\n",
    "            try:\n",
    "                transcript = client.audio.transcriptions.create(\n",
    "                    file=audio_file,\n",
    "                    model=\"whisper-1\",\n",
    "                    language=\"ko\",\n",
    "                    response_format=\"text\"\n",
    "                )\n",
    "                # transcript는 Pydantic 모델 객체로 반환됨\n",
    "                transcript_list.append(transcript)\n",
    "            except Exception as e:\n",
    "                print(f\"Error processing {chunk_file}: {e}\")\n",
    "                transcript_list.append(\"\")  # 오류 발생 시 빈 텍스트 추가\n",
    "    return transcript_list\n",
    "\n",
    "# 청크 텍스트 합치기 및 저장\n",
    "def save_combined_text(transcripts, output_file):\n",
    "    combined_text = \"\\n\".join(transcripts)\n",
    "    with open(output_file, \"w\", encoding=\"utf-8\") as f:\n",
    "        f.write(combined_text)\n",
    "\n",
    "# 메인 실행\n",
    "def process_audio_file(file_path):\n",
    "    print(f\"Processing file: {file_path}\")\n",
    "    chunk_files = split_audio(file_path)\n",
    "    transcripts = transcribe_audio(chunk_files)\n",
    "    \n",
    "    file_name = os.path.splitext(os.path.basename(file_path))[0]\n",
    "    output_file = os.path.join(output_path, f\"{file_name}_transcription.txt\")\n",
    "    save_combined_text(transcripts, output_file)\n",
    "    print(f\"Transcription saved to: {output_file}\")\n",
    "\n",
    "# 모든 오디오 파일 처리\n",
    "for file_name in os.listdir(audio_path):\n",
    "    if file_name.endswith(\".wav\"):  # .wav 파일만 처리\n",
    "        process_audio_file(os.path.join(audio_path, file_name))\n"
   ]
  },
  {
   "cell_type": "markdown",
   "metadata": {},
   "source": [
    "#### 라벨링"
   ]
  },
  {
   "cell_type": "code",
   "execution_count": null,
   "metadata": {},
   "outputs": [],
   "source": [
    "# Updated code to read input text from a specified file path and process it\n",
    "import os\n",
    "# Define the paths\n",
    "input_file_path = os.path.join(path,\"speech2text\")\n",
    "save_path = os.path.join(path,\"ai_models/datasets/labels/\")\n",
    "os.makedirs(save_path, exist_ok=True)  # Create the directory if it doesn't exist\n",
    "\n",
    "\n",
    "for file_name in os.listdir(input_file_path):\n",
    "    file_path = os.path.join(input_file_path, file_name)\n",
    "# Check if the input file exists\n",
    "    if os.path.exists(file_path):\n",
    "        # Read the text from the input file\n",
    "        with open(file_path, 'r', encoding='utf-8') as f:\n",
    "            text = f.read()\n",
    "\n",
    "        # Split text into lines and group into 3-line blocks\n",
    "        lines = text.split('\\n')\n",
    "        grouped_lines = [lines[i:i+3] for i in range(0, len(lines), 3)]\n",
    "\n",
    "        # Function to label each group\n",
    "        def label_group(group):\n",
    "            group_text = ' '.join(group).strip()\n",
    "            if any(keyword in group_text for keyword in [\"정수\", \"수직선\", \"절대값\"]):\n",
    "                return 0 #\"수업 내용\"\n",
    "            elif any(keyword in group_text for keyword in [\"영상\", \"다음\", \"힘내시구요\"]):\n",
    "                return 1 #\"공지사항\"\n",
    "            else:\n",
    "                return 2 # \"수업 내용과 관계 없음\"\n",
    "\n",
    "        # Label each group\n",
    "        labeled_groups = [{\"group\": group, \"label\": label_group(group)} for group in grouped_lines]\n",
    "\n",
    "        # Save labeled groups to a file\n",
    "        output_file = os.path.join(save_path, \"labeled_data.txt\")\n",
    "        with open(output_file, 'w', encoding='utf-8') as f:\n",
    "            for entry in labeled_groups:\n",
    "                f.write(f\"Group:\\n{' '.join(entry['group'])}\\nLabel: {entry['label']}\\n\\n\")\n",
    "\n",
    "        print(f\"Labeled data saved to: {output_file}\")\n",
    "    else:\n",
    "        print(\"Input text file does not exist. Please ensure the file is at the specified path.\")\n"
   ]
  },
  {
   "cell_type": "code",
   "execution_count": 29,
   "metadata": {},
   "outputs": [
    {
     "name": "stdout",
     "output_type": "stream",
     "text": [
      "Labeled data saved to: C:/Users/User/Desktop/eduSmile-master/ai_models/datasets/labels/labeled_data_01.txt\n",
      "Labeled data saved to: C:/Users/User/Desktop/eduSmile-master/ai_models/datasets/labels/labeled_data_02.txt\n",
      "Labeled data saved to: C:/Users/User/Desktop/eduSmile-master/ai_models/datasets/labels/labeled_data_03.txt\n",
      "Labeled data saved to: C:/Users/User/Desktop/eduSmile-master/ai_models/datasets/labels/labeled_data_04.txt\n",
      "Labeled data saved to: C:/Users/User/Desktop/eduSmile-master/ai_models/datasets/labels/labeled_data_05.txt\n",
      "Labeled data saved to: C:/Users/User/Desktop/eduSmile-master/ai_models/datasets/labels/labeled_data_06.txt\n",
      "Labeled data saved to: C:/Users/User/Desktop/eduSmile-master/ai_models/datasets/labels/labeled_data_07.txt\n",
      "Labeled data saved to: C:/Users/User/Desktop/eduSmile-master/ai_models/datasets/labels/labeled_data_08.txt\n",
      "Labeled data saved to: C:/Users/User/Desktop/eduSmile-master/ai_models/datasets/labels/labeled_data_09.txt\n",
      "Labeled data saved to: C:/Users/User/Desktop/eduSmile-master/ai_models/datasets/labels/labeled_data_10.txt\n",
      "Labeled data saved to: C:/Users/User/Desktop/eduSmile-master/ai_models/datasets/labels/labeled_data_11.txt\n"
     ]
    }
   ],
   "source": [
    "import os\n",
    "from sentence_transformers import SentenceTransformer, util\n",
    "\n",
    "# Define the paths\n",
    "input_file_path = os.path.join(path, \"speech2text\")\n",
    "save_path = os.path.join(path, \"ai_models/datasets/labels/\")\n",
    "os.makedirs(save_path, exist_ok=True)\n",
    "\n",
    "# Initialize the Sentence Transformer model\n",
    "model = SentenceTransformer('sentence-transformers/paraphrase-mpnet-base-v2')\n",
    "\n",
    "# Define category templates\n",
    "categories = {\n",
    "    0: \"수업 내용: 곱셈, 나눗셈, 기호, 음수, 양수, 전진, 후퇴, 수직선, 절대값\",\n",
    "    1: \"공지사항: 영상, 다음, 구독, 좋아요, 힘내시구요, 화이팅\",\n",
    "    2: \"그 외 내용: 아기, 비유, 가족, 빌려주다, 뒷걸음질\"\n",
    "}\n",
    "\n",
    "# Precompute embeddings for category templates\n",
    "category_embeddings = {label: model.encode(text, convert_to_tensor=True) \n",
    "                      for label, text in categories.items()}\n",
    "\n",
    "def chunk_text(text, chunk_size=300):\n",
    "    \"\"\"Split text into chunks of approximately chunk_size characters.\"\"\"\n",
    "    words = text.split()\n",
    "    chunks = []\n",
    "    current_chunk = []\n",
    "    current_length = 0\n",
    "    \n",
    "    for word in words:\n",
    "        word_length = len(word) + 1  # +1 for the space\n",
    "        if current_length + word_length > chunk_size and current_chunk:\n",
    "            chunks.append(' '.join(current_chunk))\n",
    "            current_chunk = [word]\n",
    "            current_length = word_length\n",
    "        else:\n",
    "            current_chunk.append(word)\n",
    "            current_length += word_length\n",
    "    \n",
    "    if current_chunk:\n",
    "        chunks.append(' '.join(current_chunk))\n",
    "    \n",
    "    return chunks\n",
    "\n",
    "# Process each file in the directory\n",
    "for file_num, file_name in enumerate(sorted(os.listdir(input_file_path)), 1):\n",
    "    file_path = os.path.join(input_file_path, file_name)\n",
    "    \n",
    "    if os.path.exists(file_path):\n",
    "        # Read the text from the input file\n",
    "        with open(file_path, 'r', encoding='utf-8') as f:\n",
    "            text = f.read()\n",
    "        \n",
    "        # Split text into 300-character chunks\n",
    "        text_chunks = chunk_text(text, 300)\n",
    "        labeled_chunks = []\n",
    "        \n",
    "        for index, chunk in enumerate(text_chunks):\n",
    "            # Compute embedding for the chunk\n",
    "            chunk_embedding = model.encode(chunk, convert_to_tensor=True)\n",
    "            \n",
    "            # Calculate cosine similarity with each category\n",
    "            similarities = {\n",
    "                label: util.cos_sim(chunk_embedding, category_embeddings[label]).item()\n",
    "                for label in categories\n",
    "            }\n",
    "            \n",
    "            # Determine the label with the highest similarity\n",
    "            best_label = max(similarities, key=similarities.get)\n",
    "            labeled_chunks.append({\n",
    "                \"chunk\": chunk,\n",
    "                \"label\": best_label,\n",
    "                \"index\": index\n",
    "            })\n",
    "        \n",
    "        # Save labeled chunks to a numbered file\n",
    "        output_file = os.path.join(save_path, f\"labeled_data_{file_num:02d}.txt\")\n",
    "        with open(output_file, 'w', encoding='utf-8') as f:\n",
    "            for entry in sorted(labeled_chunks, key=lambda x: x['index']):\n",
    "                f.write(f\"Chunk {entry['index'] + 1} \"\n",
    "                       f\"(Characters: {len(entry['chunk'])}):\\n\"\n",
    "                       f\"{entry['chunk']}\\n\"\n",
    "                       f\"Label: {entry['label']} ({categories[entry['label']]})\\n\\n\")\n",
    "        \n",
    "        print(f\"Labeled data saved to: {output_file}\")\n",
    "    else:\n",
    "        print(f\"Input file {file_name} does not exist.\")"
   ]
  },
  {
   "cell_type": "code",
   "execution_count": null,
   "metadata": {},
   "outputs": [],
   "source": []
  },
  {
   "cell_type": "markdown",
   "metadata": {},
   "source": [
    "#### 모델 학습"
   ]
  },
  {
   "cell_type": "code",
   "execution_count": null,
   "metadata": {},
   "outputs": [],
   "source": [
    "import torch\n",
    "from transformers import BertTokenizer, BertForSequenceClassification\n",
    "from torch.utils.data import Dataset, DataLoader\n",
    "import numpy as np\n",
    "\n",
    "class LectureDataset(Dataset):\n",
    "    def __init__(self, texts, labels, tokenizer, max_len=512):\n",
    "        self.texts = texts\n",
    "        self.labels = labels\n",
    "        self.tokenizer = tokenizer\n",
    "        self.max_len = max_len\n",
    "        \n",
    "    def __len__(self):\n",
    "        return len(self.texts)\n",
    "    \n",
    "    def __getitem__(self, idx):\n",
    "        text = str(self.texts[idx])\n",
    "        label = self.labels[idx]\n",
    "        \n",
    "        encoding = self.tokenizer.encode_plus(\n",
    "            text,\n",
    "            add_special_tokens=True,\n",
    "            max_length=self.max_len,\n",
    "            return_token_type_ids=False,\n",
    "            padding='max_length',\n",
    "            truncation=True,\n",
    "            return_attention_mask=True,\n",
    "            return_tensors='pt'\n",
    "        )\n",
    "        \n",
    "        return {\n",
    "            'text': text,\n",
    "            'input_ids': encoding['input_ids'].flatten(),\n",
    "            'attention_mask': encoding['attention_mask'].flatten(),\n",
    "            'label': torch.tensor(label, dtype=torch.long)\n",
    "        }\n",
    "\n",
    "def train_classifier(train_texts, train_labels, model_name='bert-base-multilingual-cased'):\n",
    "    # 토크나이저와 모델 초기화\n",
    "    tokenizer = BertTokenizer.from_pretrained(model_name)\n",
    "    model = BertForSequenceClassification.from_pretrained(\n",
    "        model_name,\n",
    "        num_labels=2  # 수업내용(0)과 공지사항(1)\n",
    "    )\n",
    "    \n",
    "    # 데이터셋 생성\n",
    "    dataset = LectureDataset(train_texts, train_labels, tokenizer)\n",
    "    train_loader = DataLoader(dataset, batch_size=8, shuffle=True)\n",
    "    \n",
    "    # 학습 설정\n",
    "    device = torch.device('cuda' if torch.cuda.is_available() else 'cpu')\n",
    "    model.to(device)\n",
    "    optimizer = torch.optim.AdamW(model.parameters(), lr=2e-5)\n",
    "    \n",
    "    # 학습 루프\n",
    "    model.train()\n",
    "    for epoch in range(3):  # 3 에폭 동안 학습\n",
    "        for batch in train_loader:\n",
    "            optimizer.zero_grad()\n",
    "            \n",
    "            input_ids = batch['input_ids'].to(device)\n",
    "            attention_mask = batch['attention_mask'].to(device)\n",
    "            labels = batch['label'].to(device)\n",
    "            \n",
    "            outputs = model(\n",
    "                input_ids=input_ids,\n",
    "                attention_mask=attention_mask,\n",
    "                labels=labels\n",
    "            )\n",
    "            \n",
    "            loss = outputs.loss\n",
    "            loss.backward()\n",
    "            optimizer.step()\n",
    "    \n",
    "    return model, tokenizer\n",
    "\n",
    "def classify_notes(text, model, tokenizer, device='cuda'):\n",
    "    \"\"\"\n",
    "    텍스트를 수업내용(0)과 공지사항(1)으로 분류\n",
    "    \"\"\"\n",
    "    model.eval()\n",
    "    encoding = tokenizer.encode_plus(\n",
    "        text,\n",
    "        add_special_tokens=True,\n",
    "        max_length=512,\n",
    "        return_token_type_ids=False,\n",
    "        padding='max_length',\n",
    "        truncation=True,\n",
    "        return_attention_mask=True,\n",
    "        return_tensors='pt'\n",
    "    )\n",
    "    \n",
    "    input_ids = encoding['input_ids'].to(device)\n",
    "    attention_mask = encoding['attention_mask'].to(device)\n",
    "    \n",
    "    with torch.no_grad():\n",
    "        outputs = model(\n",
    "            input_ids=input_ids,\n",
    "            attention_mask=attention_mask\n",
    "        )\n",
    "    \n",
    "    probabilities = torch.softmax(outputs.logits, dim=1)\n",
    "    prediction = torch.argmax(probabilities, dim=1).item()\n",
    "    \n",
    "    return {\n",
    "        'class': 'notice' if prediction == 1 else 'lecture',\n",
    "        'probability': probabilities[0][prediction].item()\n",
    "    }\n",
    "\n",
    "# 사용 예시\n",
    "\n"
   ]
  },
  {
   "cell_type": "code",
   "execution_count": null,
   "metadata": {},
   "outputs": [],
   "source": [
    "import openai\n",
    "from typing import Dict, List\n",
    "import os\n",
    "\n",
    "class LectureNoteClassifier:\n",
    "    def __init__(self, api_key: str):\n",
    "        \"\"\"\n",
    "        OpenAI API를 사용하여 텍스트를 수업 내용, 공지사항, 관련없는 내용으로 분류하는 클래스\n",
    "        \n",
    "        Args:\n",
    "            api_key (str): OpenAI API 키\n",
    "        \"\"\"\n",
    "        openai.api_key = api_key\n",
    "        \n",
    "        # 분류를 위한 프롬프트 템플릿\n",
    "        self.prompt_template = \"\"\"다음 텍스트를 아래 세 카테고리 중 하나로 분류해주세요:\n",
    "- lecture: 수업 내용 (예: 이론 설명, 개념 설명 등)\n",
    "- notice: 수업 관련 공지사항 (예: 시험 일정, 과제 제출, 휴강 공지 등)\n",
    "- unrelated: 수업과 관련없는 내용 (예: 개인적인 메모, 잡담, 다른 과목 내용 등)\n",
    "\n",
    "답변은 위의 세 단어 중 하나만 작성해주세요.\n",
    "\n",
    "텍스트: {text}\n",
    "\n",
    "분류:\"\"\"\n",
    "\n",
    "    def classify_line(self, text: str) -> Dict:\n",
    "        \"\"\"\n",
    "        한 줄의 텍스트를 분류합니다.\n",
    "        \n",
    "        Args:\n",
    "            text (str): 분류할 텍스트\n",
    "            \n",
    "        Returns:\n",
    "            Dict: 분류 결과와 신뢰도를 포함한 딕셔너리\n",
    "        \"\"\"\n",
    "        try:\n",
    "            response = openai.ChatCompletion.create(\n",
    "                model=\"gpt-4\",  # 또는 \"gpt-3.5-turbo\"\n",
    "                messages=[\n",
    "                    {\"role\": \"system\", \"content\": \"당신은 수업 노트를 수업 내용, 공지사항, 관련없는 내용으로 분류하는 도우미입니다.\"},\n",
    "                    {\"role\": \"user\", \"content\": self.prompt_template.format(text=text)}\n",
    "                ],\n",
    "                temperature=0.3\n",
    "            )\n",
    "            \n",
    "            # API 응답에서 분류 결과 추출\n",
    "            classification = response.choices[0].message.content.strip().lower()\n",
    "            \n",
    "            return {\n",
    "                'text': text,\n",
    "                'class': classification,\n",
    "                'probability': 1.0\n",
    "            }\n",
    "            \n",
    "        except Exception as e:\n",
    "            print(f\"Error during classification: {e}\")\n",
    "            return {\n",
    "                'text': text,\n",
    "                'class': 'unknown',\n",
    "                'probability': 0.0\n",
    "            }\n",
    "\n",
    "    def classify_notes(self, notes_text: str) -> Dict[str, List]:\n",
    "        \"\"\"\n",
    "        여러 줄의 텍스트를 분류합니다.\n",
    "        \n",
    "        Args:\n",
    "            notes_text (str): 분류할 전체 텍스트\n",
    "            \n",
    "        Returns:\n",
    "            Dict: 수업 내용, 공지사항, 관련없는 내용으로 분류된 결과\n",
    "        \"\"\"\n",
    "        # 줄바꿈을 기준으로 텍스트를 분리하고 빈 줄 제거\n",
    "        lines = [line.strip() for line in notes_text.split('\\n') if line.strip()]\n",
    "        \n",
    "        results = {\n",
    "            'lecture_content': [],\n",
    "            'notices': [],\n",
    "            'unrelated_content': []\n",
    "        }\n",
    "        \n",
    "        # 각 줄 분류\n",
    "        for line in lines:\n",
    "            classification = self.classify_line(line)\n",
    "            if classification['class'] == 'lecture':\n",
    "                results['lecture_content'].append({\n",
    "                    'text': line,\n",
    "                    'probability': classification['probability']\n",
    "                })\n",
    "            elif classification['class'] == 'notice':\n",
    "                results['notices'].append({\n",
    "                    'text': line,\n",
    "                    'probability': classification['probability']\n",
    "                })\n",
    "            elif classification['class'] == 'unrelated':\n",
    "                results['unrelated_content'].append({\n",
    "                    'text': line,\n",
    "                    'probability': classification['probability']\n",
    "                })\n",
    "        \n",
    "        return results\n",
    "\n",
    "# 사용 예시\n",
    "def main():\n",
    "    # OpenAI API 키 설정\n",
    "    api_key = \"your_openai_api_key_here\"  # 실제 API 키로 교체 필요\n",
    "    \n",
    "    # 분류기 초기화\n",
    "    classifier = LectureNoteClassifier(api_key)\n",
    "    \n",
    "    # 테스트용 노트\n",
    "    test_notes = \"\"\"오늘은 선형대수학의 기초를 배우겠습니다.\n",
    "행렬의 곱셈은 다음과 같이 정의됩니다.\n",
    "다음 주 퀴즈가 있으니 준비해주세요.\n",
    "점심 메뉴 추천: 학식 오늘 맛있대.\n",
    "벡터의 내적은 두 벡터의 성분끼리 곱한 것의 합입니다.\n",
    "과제는 이번 주 금요일까지 제출해주세요.\n",
    "오늘 날씨 진짜 덥다...\n",
    "행렬식의 기하학적 의미는 면적 또는 부피를 나타냅니다.\n",
    "저녁에 친구랑 약속 있음\"\"\"\n",
    "\n",
    "    # 노트 분류\n",
    "    results = classifier.classify_notes(test_notes)\n",
    "    \n",
    "    # 결과 출력\n",
    "    print(\"\\n=== 수업 내용 ===\")\n",
    "    for item in results['lecture_content']:\n",
    "        print(f\"• {item['text']}\")\n",
    "    \n",
    "    print(\"\\n=== 공지사항 ===\")\n",
    "    for item in results['notices']:\n",
    "        print(f\"• {item['text']}\")\n",
    "        \n",
    "    print(\"\\n=== 수업 무관 내용 ===\")\n",
    "    for item in results['unrelated_content']:\n",
    "        print(f\"• {item['text']}\")\n",
    "\n",
    "if __name__ == \"__main__\":\n",
    "    main()"
   ]
  },
  {
   "cell_type": "code",
   "execution_count": null,
   "metadata": {},
   "outputs": [],
   "source": [
    "\n",
    "# 학습 데이터 예시\n",
    "train_texts = [\n",
    "    \"다음 주 시험은 3장부터 5장까지입니다.\",  # 공지사항\n",
    "    \"오늘은 미분방정식의 기초에 대해 배우겠습니다.\",  # 수업내용\n",
    "    \"과제 제출 기한은 이번 주 금요일까지입니다.\",  # 공지사항\n",
    "    \"함수의 극한값을 구하는 방법은 다음과 같습니다.\"  # 수업내용\n",
    "]\n",
    "train_labels = [1, 0, 1, 0]  # 1: 공지사항, 0: 수업내용\n",
    "\n",
    "# 모델 학습\n",
    "model, tokenizer = train_classifier(train_texts, train_labels)\n",
    "\n",
    "# 새로운 텍스트 분류\n",
    "test_text = \"다음 주는 중간고사 기간이므로 수업이 없습니다.\"\n",
    "result = classify_notes(test_text, model, tokenizer)\n",
    "print(f\"분류 결과: {result['class']}, 확률: {result['probability']:.2f}\")"
   ]
  },
  {
   "cell_type": "markdown",
   "metadata": {},
   "source": [
    "#### 모델사용(claude)"
   ]
  },
  {
   "cell_type": "code",
   "execution_count": 36,
   "metadata": {},
   "outputs": [],
   "source": [
    "\n",
    "# 라이브러리 임포트\n",
    "import os\n",
    "from datetime import datetime\n",
    "from anthropic import Anthropic\n",
    "import asyncio\n",
    "import nest_asyncio\n",
    "import json\n",
    "from pathlib import Path\n",
    "\n",
    "# 주피터 노트북에서 asyncio 사용 가능하게 설정\n",
    "nest_asyncio.apply()\n",
    "\n",
    "class FileClassProcessor:\n",
    "    def __init__(self, api_key, input_folder, output_folder=\"수업자료\"):\n",
    "        \"\"\"\n",
    "        파일에서 수업 내용을 읽어 처리하고 문제를 생성하는 클래스\n",
    "        \n",
    "        Args:\n",
    "            api_key (str): Anthropic API 키\n",
    "            input_folder (str): 수업 내용 파일이 있는 폴더 경로\n",
    "            output_folder (str): 결과물을 저장할 기본 폴더 경로\n",
    "        \"\"\"\n",
    "        self.input_folder = Path(input_folder)\n",
    "        self.output_folder = Path(output_folder)\n",
    "        self.client = Anthropic(api_key=api_key)\n",
    "        self._create_folders()\n",
    "    \n",
    "    def _create_folders(self):\n",
    "        \"\"\"필요한 폴더들을 생성합니다.\"\"\"\n",
    "        folders = ['공지사항', '수업내용', '문제', '해설']\n",
    "        for folder in folders:\n",
    "            folder_path = self.output_folder / folder\n",
    "            folder_path.mkdir(parents=True, exist_ok=True)\n",
    "    \n",
    "    def _generate_filename(self, prefix, original_filename):\n",
    "        \"\"\"원본 파일명을 포함한 결과 파일명을 생성합니다.\"\"\"\n",
    "        date_str = datetime.now().strftime('%Y%m%d_%H%M%S')\n",
    "        original_name = Path(original_filename).stem\n",
    "        return f\"{prefix}_{original_name}_{date_str}\"\n",
    "    \n",
    "    def _save_text(self, filepath, content):\n",
    "        \"\"\"텍스트 내용을 파일로 저장합니다.\"\"\"\n",
    "        with open(f\"{filepath}.txt\", 'w', encoding='utf-8') as f:\n",
    "            f.write(content)\n",
    "    \n",
    "    def _save_json(self, filepath, content):\n",
    "        \"\"\"JSON 내용을 파일로 저장합니다.\"\"\"\n",
    "        with open(f\"{filepath}.json\", 'w', encoding='utf-8') as f:\n",
    "            json.dump(content, f, ensure_ascii=False, indent=2)\n",
    "    \n",
    "    def _read_file(self, file_path):\n",
    "        \"\"\"파일 내용을 읽습니다.\"\"\"\n",
    "        with open(file_path, 'r', encoding='utf-8') as f:\n",
    "            return f.read()\n",
    "    \n",
    "    async def _get_claude_response(self, prompt):\n",
    "        \"\"\"Claude API를 호출하여 응답을 받습니다.\"\"\"\n",
    "        message = await self.client.messages.create(\n",
    "            model=\"claude-3-haiku-20240307\",\n",
    "            max_tokens=1000,\n",
    "            temperature=0.7,\n",
    "            messages=[\n",
    "                {\n",
    "                    \"role\": \"user\",\n",
    "                    \"content\": prompt\n",
    "                }\n",
    "            ]\n",
    "        )\n",
    "        return message.content\n",
    "\n",
    "    async def generate_multiple_choice(self, content, num_questions=5):\n",
    "        \"\"\"객관식 문제를 생성합니다.\"\"\"\n",
    "        prompt = f\"\"\"\n",
    "        다음 수업 내용을 바탕으로 {num_questions}개의 객관식 문제를 만들어주세요.\n",
    "        문제의 난이도는 다양하게 구성하고, 각 보기는 학습 내용과 관련된 그럴듯한 오답으로 구성해주세요.\n",
    "        \n",
    "        JSON 형식으로 출력해주세요. 예시 형식:\n",
    "        {{\n",
    "            \"questions\": [\n",
    "                {{\n",
    "                    \"question\": \"문제 내용\",\n",
    "                    \"choices\": [\"보기1\", \"보기2\", \"보기3\", \"보기4\"],\n",
    "                    \"correct_answer\": \"정답 번호(0-3)\",\n",
    "                    \"explanation\": \"해설\"\n",
    "                }}\n",
    "            ]\n",
    "        }}\n",
    "        \n",
    "        수업 내용:\n",
    "        {content}\n",
    "        \"\"\"\n",
    "        response = await self._get_claude_response(prompt)\n",
    "        return json.loads(response)\n",
    "\n",
    "    async def process_file(self, file_path):\n",
    "        \"\"\"개별 파일의 내용을 처리합니다.\"\"\"\n",
    "        content = self._read_file(file_path)\n",
    "        filename = file_path.name\n",
    "        results = {}\n",
    "        \n",
    "        # 공지사항 추출\n",
    "        notice = await self._get_claude_response(f\"\"\"\n",
    "        다음 수업 내용에서 공지사항만을 추출해주세요. \n",
    "        공지사항이 없다면 \"공지사항이 없습니다.\"라고 답변해주세요.\n",
    "        \n",
    "        수업 내용:\n",
    "        {content}\n",
    "        \"\"\")\n",
    "        notice_path = self.output_folder / '공지사항' / self._generate_filename('공지', filename)\n",
    "        self._save_text(notice_path, notice)\n",
    "        results['공지사항'] = {'내용': notice, '저장경로': f\"{notice_path}.txt\"}\n",
    "        \n",
    "        # 수업내용 요약\n",
    "        summary = await self._get_claude_response(f\"\"\"\n",
    "        다음 수업 내용을 핵심 개념과 중요 포인트 위주로 요약해주세요.\n",
    "        각 개념에 대해 구체적인 예시를 포함해주세요.\n",
    "        \n",
    "        수업 내용:\n",
    "        {content}\n",
    "        \"\"\")\n",
    "        summary_path = self.output_folder / '수업내용' / self._generate_filename('수업요약', filename)\n",
    "        self._save_text(summary_path, summary)\n",
    "        results['수업요약'] = {'내용': summary, '저장경로': f\"{summary_path}.txt\"}\n",
    "        \n",
    "        # 객관식 문제 생성\n",
    "        quiz = await self.generate_multiple_choice(content)\n",
    "        quiz_path = self.output_folder / '문제' / self._generate_filename('객관식문제', filename)\n",
    "        self._save_json(quiz_path, quiz)\n",
    "        results['객관식문제'] = {'내용': quiz, '저장경로': f\"{quiz_path}.json\"}\n",
    "        \n",
    "        # 해설 생성\n",
    "        explanations = {\n",
    "            \"문제해설\": [\n",
    "                {\n",
    "                    \"문제번호\": i + 1,\n",
    "                    \"문제\": q[\"question\"],\n",
    "                    \"정답\": f\"{int(q['correct_answer']) + 1}번\",\n",
    "                    \"해설\": q[\"explanation\"]\n",
    "                }\n",
    "                for i, q in enumerate(quiz[\"questions\"])\n",
    "            ]\n",
    "        }\n",
    "        explanations_path = self.output_folder / '해설' / self._generate_filename('문제해설', filename)\n",
    "        self._save_json(explanations_path, explanations)\n",
    "        results['문제해설'] = {'내용': explanations, '저장경로': f\"{explanations_path}.json\"}\n",
    "        \n",
    "        return results\n",
    "\n",
    "    async def process_all_files(self):\n",
    "        \"\"\"모든 파일을 처리합니다.\"\"\"\n",
    "        all_results = {}\n",
    "        supported_extensions = {'.txt', '.md', '.text'}\n",
    "        \n",
    "        for file_path in self.input_folder.iterdir():\n",
    "            if file_path.suffix.lower() in supported_extensions:\n",
    "                print(f\"처리 중: {file_path.name}\")\n",
    "                try:\n",
    "                    results = await self.process_file(file_path)\n",
    "                    all_results[file_path.name] = results\n",
    "                    print(f\"처리 완료: {file_path.name}\")\n",
    "                except Exception as e:\n",
    "                    print(f\"파일 처리 중 오류 발생: {file_path.name}\")\n",
    "                    print(f\"오류 내용: {str(e)}\")\n",
    "        \n",
    "        return all_results\n",
    "\n",
    "def process_folder_contents(api_key, input_folder, output_folder=\"수업자료\"):\n",
    "    \"\"\"\n",
    "    폴더 내의 모든 수업 자료를 처리하는 편의 함수\n",
    "    \n",
    "    Args:\n",
    "        api_key (str): Anthropic API 키\n",
    "        input_folder (str): 수업 내용 파일이 있는 폴더 경로\n",
    "        output_folder (str): 저장할 기본 폴더 경로\n",
    "    \n",
    "    Returns:\n",
    "        dict: 처리된 결과와 저장 경로\n",
    "    \"\"\"\n",
    "    processor = FileClassProcessor(api_key, input_folder, output_folder)\n",
    "    return asyncio.run(processor.process_all_files())\n",
    "\n",
    "def display_results(all_results):\n",
    "    \"\"\"처리 결과를 보기 좋게 출력합니다.\"\"\"\n",
    "    for filename, results in all_results.items():\n",
    "        print(f\"\\n{'='*50}\")\n",
    "        print(f\"파일: {filename}\")\n",
    "        print('='*50)\n",
    "        \n",
    "        for category, data in results.items():\n",
    "            print(f\"\\n=== {category} ===\")\n",
    "            print(f\"저장경로: {data['저장경로']}\")\n",
    "            print(\"\\n내용:\")\n",
    "            \n",
    "            if category == '객관식문제':\n",
    "                for i, question in enumerate(data['내용']['questions'], 1):\n",
    "                    print(f\"\\n{i}번 문제: {question['question']}\")\n",
    "                    for j, choice in enumerate(question['choices'], 1):\n",
    "                        print(f\"   {j}) {choice}\")\n",
    "                    print(f\"   정답: {int(question['correct_answer']) + 1}번\")\n",
    "                    print(f\"   해설: {question['explanation']}\")\n",
    "            elif category == '문제해설':\n",
    "                for explanation in data['내용']['문제해설']:\n",
    "                    print(f\"\\n{explanation['문제번호']}번 문제\")\n",
    "                    print(f\"문제: {explanation['문제']}\")\n",
    "                    print(f\"정답: {explanation['정답']}\")\n",
    "                    print(f\"해설: {explanation['해설']}\")\n",
    "            else:\n",
    "                print(data['내용'])"
   ]
  },
  {
   "cell_type": "code",
   "execution_count": 37,
   "metadata": {},
   "outputs": [],
   "source": [
    "api_key = ''\n",
    "input_folder = \"C:/Users/User/Desktop/eduSmile-master/speech2text\"  # 수업 내용 파일이 있는 폴더\n",
    "output_folder = \"C:/Users/User/Desktop/eduSmile-master/results\"  # 결과물을 저장할 폴더"
   ]
  },
  {
   "cell_type": "code",
   "execution_count": 38,
   "metadata": {},
   "outputs": [
    {
     "name": "stdout",
     "output_type": "stream",
     "text": [
      "처리 중: 0_transcription.txt\n",
      "파일 처리 중 오류 발생: 0_transcription.txt\n",
      "오류 내용: object Message can't be used in 'await' expression\n",
      "처리 중: 10_transcription.txt\n",
      "파일 처리 중 오류 발생: 10_transcription.txt\n",
      "오류 내용: object Message can't be used in 'await' expression\n",
      "처리 중: 1_transcription.txt\n",
      "파일 처리 중 오류 발생: 1_transcription.txt\n",
      "오류 내용: object Message can't be used in 'await' expression\n",
      "처리 중: 2_transcription.txt\n",
      "파일 처리 중 오류 발생: 2_transcription.txt\n",
      "오류 내용: object Message can't be used in 'await' expression\n",
      "처리 중: 3_transcription.txt\n",
      "파일 처리 중 오류 발생: 3_transcription.txt\n",
      "오류 내용: object Message can't be used in 'await' expression\n",
      "처리 중: 4_transcription.txt\n",
      "파일 처리 중 오류 발생: 4_transcription.txt\n",
      "오류 내용: object Message can't be used in 'await' expression\n",
      "처리 중: 5_transcription.txt\n",
      "파일 처리 중 오류 발생: 5_transcription.txt\n",
      "오류 내용: object Message can't be used in 'await' expression\n",
      "처리 중: 6_transcription.txt\n",
      "파일 처리 중 오류 발생: 6_transcription.txt\n",
      "오류 내용: object Message can't be used in 'await' expression\n",
      "처리 중: 7_transcription.txt\n",
      "파일 처리 중 오류 발생: 7_transcription.txt\n",
      "오류 내용: object Message can't be used in 'await' expression\n",
      "처리 중: 8_transcription.txt\n",
      "파일 처리 중 오류 발생: 8_transcription.txt\n",
      "오류 내용: object Message can't be used in 'await' expression\n",
      "처리 중: 9_transcription.txt\n",
      "파일 처리 중 오류 발생: 9_transcription.txt\n",
      "오류 내용: object Message can't be used in 'await' expression\n"
     ]
    }
   ],
   "source": [
    "# 폴더 내 모든 파일 처리\n",
    "results = process_folder_contents(api_key, input_folder, output_folder)\n",
    "\n",
    "# 결과 출력\n",
    "display_results(results)"
   ]
  }
 ],
 "metadata": {
  "kernelspec": {
   "display_name": "edusmile",
   "language": "python",
   "name": "python3"
  },
  "language_info": {
   "codemirror_mode": {
    "name": "ipython",
    "version": 3
   },
   "file_extension": ".py",
   "mimetype": "text/x-python",
   "name": "python",
   "nbconvert_exporter": "python",
   "pygments_lexer": "ipython3",
   "version": "3.8.20"
  }
 },
 "nbformat": 4,
 "nbformat_minor": 2
}
